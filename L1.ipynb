{
 "cells": [
  {
   "cell_type": "markdown",
   "metadata": {},
   "source": [
    "## L1 - Detailed Metrics and Cross-validation"
   ]
  },
  {
   "cell_type": "markdown",
   "metadata": {},
   "source": [
    "### Classification example"
   ]
  },
  {
   "cell_type": "code",
   "execution_count": 1,
   "metadata": {},
   "outputs": [],
   "source": [
    "from sklearn.metrics import classification_report, roc_auc_score, log_loss, confusion_matrix"
   ]
  },
  {
   "cell_type": "code",
   "execution_count": 2,
   "metadata": {},
   "outputs": [
    {
     "name": "stderr",
     "output_type": "stream",
     "text": [
      "/home/alexburlacu/anaconda3/lib/python3.7/importlib/_bootstrap.py:219: RuntimeWarning: numpy.ufunc size changed, may indicate binary incompatibility. Expected 192 from C header, got 216 from PyObject\n",
      "  return f(*args, **kwds)\n"
     ]
    }
   ],
   "source": [
    "from sklearn.model_selection import StratifiedKFold, KFold\n",
    "from sklearn.datasets import load_breast_cancer\n",
    "\n",
    "from sklearn.linear_model import SGDClassifier"
   ]
  },
  {
   "cell_type": "markdown",
   "metadata": {},
   "source": [
    "Without stratification."
   ]
  },
  {
   "cell_type": "code",
   "execution_count": 3,
   "metadata": {},
   "outputs": [
    {
     "name": "stdout",
     "output_type": "stream",
     "text": [
      "Accuracy on the split is 0.9210526315789473\n",
      "Accuracy on the split is 0.8859649122807017\n",
      "Accuracy on the split is 0.8596491228070176\n",
      "Accuracy on the split is 0.7807017543859649\n",
      "Accuracy on the split is 0.911504424778761\n"
     ]
    }
   ],
   "source": [
    "X, y = load_breast_cancer(return_X_y=True)\n",
    "kfold = KFold()\n",
    "\n",
    "metrics = {\"classification_report\": [], \"roc_auc_score\": [], \"log_loss\": [], \"confusion_matrix\": []}\n",
    "\n",
    "for train_split, test_split in kfold.split(X, y):\n",
    "    sgd = SGDClassifier(loss=\"log\")\n",
    "    sgd.fit(X[train_split], y[train_split])\n",
    "    pred_proba = sgd.predict_proba(X[test_split])\n",
    "    pred = sgd.predict(X[test_split])\n",
    "    metrics[\"classification_report\"].append(classification_report(y[test_split], pred))\n",
    "    metrics[\"confusion_matrix\"].append(confusion_matrix(y[test_split], pred))\n",
    "    metrics[\"roc_auc_score\"].append(roc_auc_score(y[test_split], pred))\n",
    "    metrics[\"log_loss\"].append(log_loss(y[test_split], pred_proba))\n",
    "    \n",
    "    print(\"Accuracy on the split is\", sgd.score(X[test_split], y[test_split]))\n"
   ]
  },
  {
   "cell_type": "code",
   "execution_count": 4,
   "metadata": {},
   "outputs": [
    {
     "name": "stdout",
     "output_type": "stream",
     "text": [
      "classification_report\n",
      "On split 0:\n",
      "               precision    recall  f1-score   support\n",
      "\n",
      "           0       0.98      0.88      0.93        68\n",
      "           1       0.85      0.98      0.91        46\n",
      "\n",
      "    accuracy                           0.92       114\n",
      "   macro avg       0.92      0.93      0.92       114\n",
      "weighted avg       0.93      0.92      0.92       114\n",
      "\n",
      "On split 1:\n",
      "               precision    recall  f1-score   support\n",
      "\n",
      "           0       0.86      0.88      0.87        49\n",
      "           1       0.91      0.89      0.90        65\n",
      "\n",
      "    accuracy                           0.89       114\n",
      "   macro avg       0.88      0.88      0.88       114\n",
      "weighted avg       0.89      0.89      0.89       114\n",
      "\n",
      "On split 2:\n",
      "               precision    recall  f1-score   support\n",
      "\n",
      "           0       0.71      1.00      0.83        40\n",
      "           1       1.00      0.78      0.88        74\n",
      "\n",
      "    accuracy                           0.86       114\n",
      "   macro avg       0.86      0.89      0.86       114\n",
      "weighted avg       0.90      0.86      0.86       114\n",
      "\n",
      "On split 3:\n",
      "               precision    recall  f1-score   support\n",
      "\n",
      "           0       0.54      0.93      0.68        29\n",
      "           1       0.97      0.73      0.83        85\n",
      "\n",
      "    accuracy                           0.78       114\n",
      "   macro avg       0.75      0.83      0.76       114\n",
      "weighted avg       0.86      0.78      0.79       114\n",
      "\n",
      "On split 4:\n",
      "               precision    recall  f1-score   support\n",
      "\n",
      "           0       0.77      0.88      0.82        26\n",
      "           1       0.96      0.92      0.94        87\n",
      "\n",
      "    accuracy                           0.91       113\n",
      "   macro avg       0.87      0.90      0.88       113\n",
      "weighted avg       0.92      0.91      0.91       113\n",
      "\n",
      "\n",
      "\n",
      "\n",
      "roc_auc_score\n",
      "On split 0:\n",
      " 0.9303069053708439\n",
      "On split 1:\n",
      " 0.8849293563579277\n",
      "On split 2:\n",
      " 0.8918918918918919\n",
      "On split 3:\n",
      " 0.8302231237322515\n",
      "On split 4:\n",
      " 0.902077807250221\n",
      "\n",
      "\n",
      "\n",
      "log_loss\n",
      "On split 0:\n",
      " 2.7267455048613702\n",
      "On split 1:\n",
      " 3.9386323959108673\n",
      "On split 2:\n",
      " 4.847547564197991\n",
      "On split 3:\n",
      " 7.57429306905936\n",
      "On split 4:\n",
      " 3.056528884505371\n",
      "\n",
      "\n",
      "\n",
      "confusion_matrix\n",
      "On split 0:\n",
      " [[60  8]\n",
      " [ 1 45]]\n",
      "On split 1:\n",
      " [[43  6]\n",
      " [ 7 58]]\n",
      "On split 2:\n",
      " [[40  0]\n",
      " [16 58]]\n",
      "On split 3:\n",
      " [[27  2]\n",
      " [23 62]]\n",
      "On split 4:\n",
      " [[23  3]\n",
      " [ 7 80]]\n",
      "\n",
      "\n",
      "\n"
     ]
    }
   ],
   "source": [
    "for k, vs in metrics.items():\n",
    "    print(k)\n",
    "    [print(f\"On split {idx}:\\n\", v) for idx, v in enumerate(vs)]\n",
    "    print(\"\\n\\n\")"
   ]
  },
  {
   "cell_type": "markdown",
   "metadata": {},
   "source": [
    "With stratification."
   ]
  },
  {
   "cell_type": "code",
   "execution_count": 5,
   "metadata": {
    "scrolled": true
   },
   "outputs": [
    {
     "name": "stdout",
     "output_type": "stream",
     "text": [
      "Accuracy on the split is 0.868421052631579\n",
      "Accuracy on the split is 0.8947368421052632\n",
      "Accuracy on the split is 0.9122807017543859\n",
      "Accuracy on the split is 0.9473684210526315\n",
      "Accuracy on the split is 0.911504424778761\n"
     ]
    }
   ],
   "source": [
    "X, y = load_breast_cancer(return_X_y=True)\n",
    "skfold = StratifiedKFold()\n",
    "\n",
    "metrics = {\"classification_report\": [], \"roc_auc_score\": [], \"log_loss\": [], \"confusion_matrix\": []}\n",
    "\n",
    "for train_split, test_split in skfold.split(X, y):\n",
    "    sgd = SGDClassifier(loss=\"log\")\n",
    "    sgd.fit(X[train_split], y[train_split])\n",
    "    pred_proba = sgd.predict_proba(X[test_split])\n",
    "    pred = sgd.predict(X[test_split])\n",
    "    metrics[\"classification_report\"].append(classification_report(y[test_split], pred))\n",
    "    metrics[\"confusion_matrix\"].append(confusion_matrix(y[test_split], pred))\n",
    "    metrics[\"roc_auc_score\"].append(roc_auc_score(y[test_split], pred))\n",
    "    metrics[\"log_loss\"].append(log_loss(y[test_split], pred_proba))\n",
    "    \n",
    "    print(\"Accuracy on the split is\", sgd.score(X[test_split], y[test_split]))"
   ]
  },
  {
   "cell_type": "code",
   "execution_count": 6,
   "metadata": {
    "scrolled": false
   },
   "outputs": [
    {
     "name": "stdout",
     "output_type": "stream",
     "text": [
      "classification_report\n",
      "On split 0:\n",
      "               precision    recall  f1-score   support\n",
      "\n",
      "           0       0.97      0.67      0.79        43\n",
      "           1       0.83      0.99      0.90        71\n",
      "\n",
      "    accuracy                           0.87       114\n",
      "   macro avg       0.90      0.83      0.85       114\n",
      "weighted avg       0.88      0.87      0.86       114\n",
      "\n",
      "On split 1:\n",
      "               precision    recall  f1-score   support\n",
      "\n",
      "           0       1.00      0.72      0.84        43\n",
      "           1       0.86      1.00      0.92        71\n",
      "\n",
      "    accuracy                           0.89       114\n",
      "   macro avg       0.93      0.86      0.88       114\n",
      "weighted avg       0.91      0.89      0.89       114\n",
      "\n",
      "On split 2:\n",
      "               precision    recall  f1-score   support\n",
      "\n",
      "           0       1.00      0.76      0.86        42\n",
      "           1       0.88      1.00      0.94        72\n",
      "\n",
      "    accuracy                           0.91       114\n",
      "   macro avg       0.94      0.88      0.90       114\n",
      "weighted avg       0.92      0.91      0.91       114\n",
      "\n",
      "On split 3:\n",
      "               precision    recall  f1-score   support\n",
      "\n",
      "           0       0.93      0.93      0.93        42\n",
      "           1       0.96      0.96      0.96        72\n",
      "\n",
      "    accuracy                           0.95       114\n",
      "   macro avg       0.94      0.94      0.94       114\n",
      "weighted avg       0.95      0.95      0.95       114\n",
      "\n",
      "On split 4:\n",
      "               precision    recall  f1-score   support\n",
      "\n",
      "           0       0.88      0.88      0.88        42\n",
      "           1       0.93      0.93      0.93        71\n",
      "\n",
      "    accuracy                           0.91       113\n",
      "   macro avg       0.91      0.91      0.91       113\n",
      "weighted avg       0.91      0.91      0.91       113\n",
      "\n",
      "\n",
      "\n",
      "\n",
      "roc_auc_score\n",
      "On split 0:\n",
      " 0.8301670488044547\n",
      "On split 1:\n",
      " 0.8604651162790697\n",
      "On split 2:\n",
      " 0.8809523809523809\n",
      "On split 3:\n",
      " 0.943452380952381\n",
      "On split 4:\n",
      " 0.9052649228705567\n",
      "\n",
      "\n",
      "\n",
      "log_loss\n",
      "On split 0:\n",
      " 4.544575841435616\n",
      "On split 1:\n",
      " 3.635660673148493\n",
      "On split 2:\n",
      " 3.0297172276237445\n",
      "On split 3:\n",
      " 1.817830336574247\n",
      "On split 4:\n",
      " 3.056528884505371\n",
      "\n",
      "\n",
      "\n",
      "confusion_matrix\n",
      "On split 0:\n",
      " [[29 14]\n",
      " [ 1 70]]\n",
      "On split 1:\n",
      " [[31 12]\n",
      " [ 0 71]]\n",
      "On split 2:\n",
      " [[32 10]\n",
      " [ 0 72]]\n",
      "On split 3:\n",
      " [[39  3]\n",
      " [ 3 69]]\n",
      "On split 4:\n",
      " [[37  5]\n",
      " [ 5 66]]\n",
      "\n",
      "\n",
      "\n"
     ]
    }
   ],
   "source": [
    "for k, vs in metrics.items():\n",
    "    print(k)\n",
    "    [print(f\"On split {idx}:\\n\", v) for idx, v in enumerate(vs)]\n",
    "    print(\"\\n\\n\")"
   ]
  },
  {
   "cell_type": "code",
   "execution_count": 7,
   "metadata": {},
   "outputs": [],
   "source": [
    "from sklearn.metrics import plot_precision_recall_curve\n",
    "from sklearn.metrics import plot_roc_curve\n",
    "\n",
    "import matplotlib.pyplot as plt"
   ]
  },
  {
   "cell_type": "code",
   "execution_count": 8,
   "metadata": {},
   "outputs": [
    {
     "data": {
      "image/png": "[encoded data removed]",
      "text/plain": [
       "<Figure size 792x360 with 2 Axes>"
      ]
     },
     "metadata": {
      "needs_background": "light"
     },
     "output_type": "display_data"
    }
   ],
   "source": [
    "fig, [ax_roc, ax_pr] = plt.subplots(1, 2, figsize=(11, 5))\n",
    "\n",
    "for split_no, (train_split, test_split) in enumerate(skfold.split(X, y)):\n",
    "    sgd = SGDClassifier(loss=\"log\")\n",
    "    sgd.fit(X[train_split], y[train_split])\n",
    "\n",
    "    plot_roc_curve(sgd, X[test_split], y[test_split], ax=ax_roc, name=f\"sgd-{split_no}\")\n",
    "    plot_precision_recall_curve(sgd, X[test_split], y[test_split], ax=ax_pr, name=f\"sgd-{split_no}\")\n",
    "\n",
    "\n",
    "ax_roc.set_title('Receiver Operating Characteristic (ROC) curves')\n",
    "ax_pr.set_title('Precision-Recall curves')\n",
    "\n",
    "ax_roc.grid(linestyle='--')\n",
    "ax_pr.grid(linestyle='--')\n",
    "\n",
    "plt.legend()\n",
    "plt.show()"
   ]
  },
  {
   "cell_type": "markdown",
   "metadata": {},
   "source": [
    "Maybe plot Precision-Recall curves one by one."
   ]
  },
  {
   "cell_type": "code",
   "execution_count": null,
   "metadata": {},
   "outputs": [],
   "source": []
  },
  {
   "cell_type": "markdown",
   "metadata": {},
   "source": [
    "### Regression example"
   ]
  },
  {
   "cell_type": "code",
   "execution_count": 9,
   "metadata": {},
   "outputs": [],
   "source": [
    "from sklearn.metrics import mean_absolute_percentage_error, mean_squared_error, r2_score"
   ]
  },
  {
   "cell_type": "code",
   "execution_count": 10,
   "metadata": {},
   "outputs": [],
   "source": [
    "from sklearn.model_selection import KFold\n",
    "from sklearn.datasets import fetch_openml\n",
    "\n",
    "from sklearn.linear_model import SGDRegressor"
   ]
  },
  {
   "cell_type": "code",
   "execution_count": 11,
   "metadata": {},
   "outputs": [],
   "source": [
    "# Source: https://scikit-learn.org/stable/auto_examples/linear_model/plot_tweedie_regression_insurance_claims.html\n",
    "\n",
    "def load_mtpl2(n_samples=100000):\n",
    "    \"\"\"Fetch the French Motor Third-Party Liability Claims dataset.\n",
    "\n",
    "    Parameters\n",
    "    ----------\n",
    "    n_samples: int, default=100000\n",
    "      number of samples to select (for faster run time). Full dataset has\n",
    "      678013 samples.\n",
    "    \"\"\"\n",
    "    # freMTPL2freq dataset from https://www.openml.org/d/41214\n",
    "    df_freq = fetch_openml(data_id=41214, as_frame=True)['data']\n",
    "    df_freq['IDpol'] = df_freq['IDpol'].astype(int)\n",
    "    df_freq.set_index('IDpol', inplace=True)\n",
    "\n",
    "    # freMTPL2sev dataset from https://www.openml.org/d/41215\n",
    "    df_sev = fetch_openml(data_id=41215, as_frame=True)['data']\n",
    "\n",
    "    # sum ClaimAmount over identical IDs\n",
    "    df_sev = df_sev.groupby('IDpol').sum()\n",
    "\n",
    "    df = df_freq.join(df_sev, how=\"left\")\n",
    "    df[\"ClaimAmount\"].fillna(0, inplace=True)\n",
    "\n",
    "    # unquote string fields\n",
    "    for column_name in df.columns[df.dtypes.values == object]:\n",
    "        df[column_name] = df[column_name].str.strip(\"'\")\n",
    "    return df.iloc[:n_samples]"
   ]
  },
  {
   "cell_type": "code",
   "execution_count": 12,
   "metadata": {},
   "outputs": [
    {
     "name": "stderr",
     "output_type": "stream",
     "text": [
      "/home/alexburlacu/anaconda3/lib/python3.7/importlib/_bootstrap.py:219: RuntimeWarning: numpy.ufunc size changed, may indicate binary incompatibility. Expected 192 from C header, got 216 from PyObject\n",
      "  return f(*args, **kwds)\n"
     ]
    }
   ],
   "source": [
    "# Source: https://scikit-learn.org/stable/auto_examples/linear_model/plot_tweedie_regression_insurance_claims.html\n",
    "\n",
    "df = load_mtpl2(n_samples=60000)\n",
    "\n",
    "# Note: filter out claims with zero amount, as the severity model\n",
    "# requires strictly positive target values.\n",
    "df.loc[(df[\"ClaimAmount\"] == 0) & (df[\"ClaimNb\"] >= 1), \"ClaimNb\"] = 0\n",
    "\n",
    "# Correct for unreasonable observations (that might be data error)\n",
    "# and a few exceptionally large claim amounts\n",
    "df[\"ClaimNb\"] = df[\"ClaimNb\"].clip(upper=4)\n",
    "df[\"Exposure\"] = df[\"Exposure\"].clip(upper=1)\n",
    "df[\"ClaimAmount\"] = df[\"ClaimAmount\"].clip(upper=200000)"
   ]
  },
  {
   "cell_type": "code",
   "execution_count": 13,
   "metadata": {},
   "outputs": [],
   "source": [
    "from functools import partial\n",
    "\n",
    "import numpy as np\n",
    "import pandas as pd\n",
    "\n",
    "from sklearn.compose import ColumnTransformer\n",
    "from sklearn.pipeline import make_pipeline\n",
    "from sklearn.preprocessing import FunctionTransformer, OneHotEncoder\n",
    "from sklearn.preprocessing import StandardScaler, KBinsDiscretizer\n",
    "\n",
    "\n",
    "log_scale_transformer = make_pipeline(\n",
    "    FunctionTransformer(func=np.log),\n",
    "    StandardScaler()\n",
    ")\n",
    "\n",
    "column_trans = ColumnTransformer(\n",
    "    [\n",
    "        (\"binned_numeric\", KBinsDiscretizer(n_bins=10),\n",
    "            [\"VehAge\", \"DrivAge\"]),\n",
    "        (\"onehot_categorical\", OneHotEncoder(),\n",
    "            [\"VehBrand\", \"VehPower\", \"VehGas\", \"Region\", \"Area\"]),\n",
    "        (\"passthrough_numeric\", \"passthrough\",\n",
    "            [\"BonusMalus\"]),\n",
    "        (\"log_scaled_numeric\", log_scale_transformer,\n",
    "            [\"Density\"]),\n",
    "    ],\n",
    "    remainder=\"drop\",\n",
    ")\n",
    "\n",
    "# Insurances companies are interested in modeling the Pure Premium, that is\n",
    "# the expected total claim amount per unit of exposure for each policyholder\n",
    "# in their portfolio:\n",
    "df[\"PurePremium\"] = df[\"ClaimAmount\"] / df[\"Exposure\"]\n",
    "\n",
    "# This can be indirectly approximated by a 2-step modeling: the product of the\n",
    "# Frequency times the average claim amount per claim:\n",
    "df[\"Frequency\"] = df[\"ClaimNb\"] / df[\"Exposure\"]\n",
    "df[\"AvgClaimAmount\"] = df[\"ClaimAmount\"] / np.fmax(df[\"ClaimNb\"], 1)"
   ]
  },
  {
   "cell_type": "code",
   "execution_count": 14,
   "metadata": {},
   "outputs": [],
   "source": [
    "# https://medium.com/analytics-vidhya/probabilistic-model-selection-with-aic-bic-in-python-f8471d6add32\n",
    "\n",
    "def adj_r2(y, y_hat, X):\n",
    "    r2 = r2_score(y, y_hat)\n",
    "    n, p = X.shape[0], X.shape[1]\n",
    "    return 1 - (1 - r2) * (n - 1) / (n - p - 1)\n",
    "\n",
    "\n",
    "def aic(y, y_hat, X):\n",
    "    return 2 * X.shape[1] - 2 * np.log(mean_squared_error(y, y_hat))\n",
    "\n",
    "\n",
    "def aic_c(y, y_hat, X):\n",
    "    k, n = X.shape[1], X.shape[0]\n",
    "    return aic(y, y_hat, X) + (2 * k * k + 2 * k) / (n - k - 1)\n",
    "\n",
    "\n",
    "def bic(y, y_hat, X):\n",
    "    return np.log(X.shape[0]) * X.shape[1] - 2 * np.log(mean_squared_error(y, y_hat))"
   ]
  },
  {
   "cell_type": "code",
   "execution_count": 15,
   "metadata": {},
   "outputs": [
    {
     "name": "stderr",
     "output_type": "stream",
     "text": [
      "/home/alexburlacu/anaconda3/lib/python3.7/site-packages/sklearn/preprocessing/_discretization.py:222: UserWarning: Bins whose width are too small (i.e., <= 1e-8) in feature 0 are removed. Consider decreasing the number of bins.\n",
      "  'decreasing the number of bins.' % jj)\n"
     ]
    },
    {
     "name": "stdout",
     "output_type": "stream",
     "text": [
      "-2139347.8800174287\n",
      "88.6350282349136\n",
      "88.86664012849732\n",
      "738.2777936867757\n",
      "\n",
      "-0.5715610409214309\n",
      "116.90185907101156\n",
      "117.13347096459528\n",
      "766.5446245228736\n",
      "\n",
      "-2739208.323077036\n",
      "88.3518849245313\n",
      "88.58349681811502\n",
      "737.9946503763933\n",
      "\n",
      "-1.1669601839791555\n",
      "116.18248880786788\n",
      "116.4141007014516\n",
      "765.82525425973\n",
      "\n",
      "-0.8207051559219851\n",
      "117.26699538693177\n",
      "117.49860728051549\n",
      "766.9097608387938\n",
      "\n"
     ]
    }
   ],
   "source": [
    "X = column_trans.fit_transform(df)\n",
    "y = df.ClaimAmount.values\n",
    "\n",
    "skfold = KFold()\n",
    "metrics = {\"rmse\": [], \"mape\": [], \"r2\": []}\n",
    "\n",
    "for train_split, test_split in skfold.split(X, y):\n",
    "    sgd = SGDRegressor(max_iter=10_000)\n",
    "    sgd.fit(X[train_split], y[train_split])\n",
    "    pred = sgd.predict(X[test_split])\n",
    "    \n",
    "    pred_ = sgd.predict(X[train_split])\n",
    "    print(adj_r2(y[train_split], pred_, X[train_split]))\n",
    "    print(aic(y[train_split], pred_, X[train_split]))\n",
    "    print(aic_c(y[train_split], pred_, X[train_split]))\n",
    "    print(bic(y[train_split], pred_, X[train_split]))\n",
    "    print()\n",
    "    \n",
    "    metrics[\"rmse\"].append(mean_squared_error(y[test_split], pred, squared=False))\n",
    "    metrics[\"mape\"].append(mean_absolute_percentage_error(y[test_split], pred))\n",
    "    metrics[\"r2\"].append(r2_score(y[test_split], pred))"
   ]
  },
  {
   "cell_type": "code",
   "execution_count": 16,
   "metadata": {},
   "outputs": [
    {
     "name": "stdout",
     "output_type": "stream",
     "text": [
      "rmse\n",
      "On split 0:\n",
      " 10542191.07778238\n",
      "On split 1:\n",
      " 2174.767380749238\n",
      "On split 2:\n",
      " 3860657.352362344\n",
      "On split 3:\n",
      " 2494.754642231387\n",
      "On split 4:\n",
      " 2771.365401264528\n",
      "\n",
      "\n",
      "\n",
      "mape\n",
      "On split 0:\n",
      " 5.552274057471944e+21\n",
      "On split 1:\n",
      " 2.7868873610018954e+18\n",
      "On split 2:\n",
      " 1.5830994738277673e+21\n",
      "On split 3:\n",
      " 5.066314525437114e+18\n",
      "On split 4:\n",
      " 2.1671396313207089e+18\n",
      "\n",
      "\n",
      "\n",
      "r2\n",
      "On split 0:\n",
      " -48298023.730262846\n",
      "On split 1:\n",
      " -0.9388499387109799\n",
      "On split 2:\n",
      " -3962174.00165002\n",
      "On split 3:\n",
      " -2.321341454321909\n",
      "On split 4:\n",
      " -0.1829809440941259\n",
      "\n",
      "\n",
      "\n"
     ]
    }
   ],
   "source": [
    "for k, vs in metrics.items():\n",
    "    print(k)\n",
    "    [print(f\"On split {idx}:\\n\", v) for idx, v in enumerate(vs)]\n",
    "    print(\"\\n\\n\")"
   ]
  },
  {
   "cell_type": "code",
   "execution_count": null,
   "metadata": {},
   "outputs": [],
   "source": []
  },
  {
   "cell_type": "markdown",
   "metadata": {},
   "source": [
    "See also:\n",
    "- https://scikit-learn.org/stable/auto_examples/model_selection/plot_learning_curve.html\n",
    "- https://scikit-learn.org/stable/auto_examples/model_selection/plot_validation_curve.html\n",
    "- https://danilzherebtsov.medium.com/continuous-data-stratification-c121fc91964b\n",
    "- https://scikit-learn.org/stable/auto_examples/exercises/plot_cv_diabetes.html\n",
    "- https://stackoverflow.com/questions/54945196/sklearn-stratified-k-fold-cv-with-linear-model-like-elasticnetcv\n"
   ]
  },
  {
   "cell_type": "code",
   "execution_count": null,
   "metadata": {},
   "outputs": [],
   "source": []
  }
 ],
 "metadata": {
  "kernelspec": {
   "display_name": "Python 3",
   "language": "python",
   "name": "python3"
  },
  "language_info": {
   "codemirror_mode": {
    "name": "ipython",
    "version": 3
   },
   "file_extension": ".py",
   "mimetype": "text/x-python",
   "name": "python",
   "nbconvert_exporter": "python",
   "pygments_lexer": "ipython3",
   "version": "3.7.3"
  }
 },
 "nbformat": 4,
 "nbformat_minor": 2
}
