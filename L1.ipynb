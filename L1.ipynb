{
 "cells": [
  {
   "cell_type": "markdown",
   "metadata": {},
   "source": [
    "## L1 - Detailed Metrics and Cross-validation\n",
    "\n",
    "The techniques presented in here should provide enough validation when launching a machine learning model in beta. Anything less than that is just not enough to be sure that a model is indeed good or bad."
   ]
  },
  {
   "cell_type": "markdown",
   "metadata": {},
   "source": [
    "### Classification example"
   ]
  },
  {
   "cell_type": "code",
   "execution_count": 1,
   "metadata": {},
   "outputs": [],
   "source": [
    "from sklearn.metrics import classification_report, roc_auc_score, log_loss, confusion_matrix"
   ]
  },
  {
   "cell_type": "code",
   "execution_count": 2,
   "metadata": {},
   "outputs": [],
   "source": [
    "from sklearn.model_selection import StratifiedKFold, KFold\n",
    "from sklearn.datasets import load_breast_cancer\n",
    "\n",
    "from sklearn.linear_model import SGDClassifier\n",
    "\n",
    "import numpy as np\n",
    "\n",
    "np.random.seed(41)"
   ]
  },
  {
   "cell_type": "markdown",
   "metadata": {},
   "source": [
    "So, cross-validation is good, we know this, but keeping in mind that we also need to stratify our splits, so that these will have the same distribution of targets as the full dataset is also important.\n",
    "\n",
    "Let's first establish a baseline without stratification."
   ]
  },
  {
   "cell_type": "code",
   "execution_count": 3,
   "metadata": {},
   "outputs": [
    {
     "name": "stdout",
     "output_type": "stream",
     "text": [
      "Accuracy on the split is 0.8859649122807017\n",
      "Accuracy on the split is 0.9122807017543859\n",
      "Accuracy on the split is 0.7982456140350878\n",
      "Accuracy on the split is 0.8245614035087719\n",
      "Accuracy on the split is 0.8495575221238938\n"
     ]
    }
   ],
   "source": [
    "X, y = load_breast_cancer(return_X_y=True)\n",
    "kfold = KFold()\n",
    "\n",
    "metrics = {\"classification_report\": [], \"roc_auc_score\": [], \"log_loss\": [], \"confusion_matrix\": []}\n",
    "\n",
    "for train_split, test_split in kfold.split(X, y):\n",
    "    sgd = SGDClassifier(loss=\"log\")\n",
    "    sgd.fit(X[train_split], y[train_split])\n",
    "    pred_proba = sgd.predict_proba(X[test_split]) # this one is needed for log_loss\n",
    "    pred = sgd.predict(X[test_split])\n",
    "\n",
    "    metrics[\"classification_report\"].append(classification_report(y[test_split], pred))\n",
    "    metrics[\"confusion_matrix\"].append(confusion_matrix(y[test_split], pred))\n",
    "    metrics[\"roc_auc_score\"].append(roc_auc_score(y[test_split], pred))\n",
    "    metrics[\"log_loss\"].append(log_loss(y[test_split], pred_proba))\n",
    "    \n",
    "    print(\"Accuracy on the split is\", sgd.score(X[test_split], y[test_split]))\n"
   ]
  },
  {
   "cell_type": "code",
   "execution_count": 4,
   "metadata": {},
   "outputs": [
    {
     "name": "stdout",
     "output_type": "stream",
     "text": [
      "classification_report\n",
      "On split 0:\n",
      "               precision    recall  f1-score   support\n",
      "\n",
      "           0       0.98      0.82      0.90        68\n",
      "           1       0.79      0.98      0.87        46\n",
      "\n",
      "    accuracy                           0.89       114\n",
      "   macro avg       0.89      0.90      0.88       114\n",
      "weighted avg       0.90      0.89      0.89       114\n",
      "\n",
      "On split 1:\n",
      "               precision    recall  f1-score   support\n",
      "\n",
      "           0       0.98      0.82      0.89        49\n",
      "           1       0.88      0.98      0.93        65\n",
      "\n",
      "    accuracy                           0.91       114\n",
      "   macro avg       0.93      0.90      0.91       114\n",
      "weighted avg       0.92      0.91      0.91       114\n",
      "\n",
      "On split 2:\n",
      "               precision    recall  f1-score   support\n",
      "\n",
      "           0       0.63      1.00      0.78        40\n",
      "           1       1.00      0.69      0.82        74\n",
      "\n",
      "    accuracy                           0.80       114\n",
      "   macro avg       0.82      0.84      0.80       114\n",
      "weighted avg       0.87      0.80      0.80       114\n",
      "\n",
      "On split 3:\n",
      "               precision    recall  f1-score   support\n",
      "\n",
      "           0       0.60      0.90      0.72        29\n",
      "           1       0.96      0.80      0.87        85\n",
      "\n",
      "    accuracy                           0.82       114\n",
      "   macro avg       0.78      0.85      0.80       114\n",
      "weighted avg       0.87      0.82      0.83       114\n",
      "\n",
      "On split 4:\n",
      "               precision    recall  f1-score   support\n",
      "\n",
      "           0       0.62      0.92      0.74        26\n",
      "           1       0.97      0.83      0.89        87\n",
      "\n",
      "    accuracy                           0.85       113\n",
      "   macro avg       0.79      0.88      0.82       113\n",
      "weighted avg       0.89      0.85      0.86       113\n",
      "\n",
      "\n",
      "\n",
      "\n",
      "roc_auc_score\n",
      "On split 0:\n",
      " 0.9008951406649616\n",
      "On split 1:\n",
      " 0.9004709576138148\n",
      "On split 2:\n",
      " 0.8445945945945945\n",
      "On split 3:\n",
      " 0.8482758620689655\n",
      "On split 4:\n",
      " 0.8753315649867374\n",
      "\n",
      "\n",
      "\n",
      "log_loss\n",
      "On split 0:\n",
      " 3.938632395910868\n",
      "On split 1:\n",
      " 3.0297172276237445\n",
      "On split 2:\n",
      " 6.968349623534612\n",
      "On split 3:\n",
      " 6.059434455247489\n",
      "On split 4:\n",
      " 5.1960991036591295\n",
      "\n",
      "\n",
      "\n",
      "confusion_matrix\n",
      "On split 0:\n",
      " [[56 12]\n",
      " [ 1 45]]\n",
      "On split 1:\n",
      " [[40  9]\n",
      " [ 1 64]]\n",
      "On split 2:\n",
      " [[40  0]\n",
      " [23 51]]\n",
      "On split 3:\n",
      " [[26  3]\n",
      " [17 68]]\n",
      "On split 4:\n",
      " [[24  2]\n",
      " [15 72]]\n",
      "\n",
      "\n",
      "\n"
     ]
    }
   ],
   "source": [
    "for k, vs in metrics.items():\n",
    "    print(k)\n",
    "    [print(f\"On split {idx}:\\n\", v) for idx, v in enumerate(vs)]\n",
    "    print(\"\\n\\n\")"
   ]
  },
  {
   "cell_type": "markdown",
   "metadata": {},
   "source": [
    "Now, with stratification."
   ]
  },
  {
   "cell_type": "code",
   "execution_count": 5,
   "metadata": {
    "scrolled": true
   },
   "outputs": [
    {
     "name": "stdout",
     "output_type": "stream",
     "text": [
      "Accuracy on the split is 0.8596491228070176\n",
      "Accuracy on the split is 0.9298245614035088\n",
      "Accuracy on the split is 0.8771929824561403\n",
      "Accuracy on the split is 0.8859649122807017\n",
      "Accuracy on the split is 0.8141592920353983\n"
     ]
    }
   ],
   "source": [
    "X, y = load_breast_cancer(return_X_y=True)\n",
    "skfold = StratifiedKFold()\n",
    "\n",
    "metrics = {\"classification_report\": [], \"roc_auc_score\": [], \"log_loss\": [], \"confusion_matrix\": []}\n",
    "\n",
    "for train_split, test_split in skfold.split(X, y):\n",
    "    sgd = SGDClassifier(loss=\"log\")\n",
    "    sgd.fit(X[train_split], y[train_split])\n",
    "    pred_proba = sgd.predict_proba(X[test_split])\n",
    "    pred = sgd.predict(X[test_split])\n",
    "    metrics[\"classification_report\"].append(classification_report(y[test_split], pred))\n",
    "    metrics[\"confusion_matrix\"].append(confusion_matrix(y[test_split], pred))\n",
    "    metrics[\"roc_auc_score\"].append(roc_auc_score(y[test_split], pred))\n",
    "    metrics[\"log_loss\"].append(log_loss(y[test_split], pred_proba))\n",
    "    \n",
    "    print(\"Accuracy on the split is\", sgd.score(X[test_split], y[test_split]))"
   ]
  },
  {
   "cell_type": "code",
   "execution_count": 6,
   "metadata": {
    "scrolled": false
   },
   "outputs": [
    {
     "name": "stdout",
     "output_type": "stream",
     "text": [
      "classification_report\n",
      "On split 0:\n",
      "               precision    recall  f1-score   support\n",
      "\n",
      "           0       0.97      0.65      0.78        43\n",
      "           1       0.82      0.99      0.90        71\n",
      "\n",
      "    accuracy                           0.86       114\n",
      "   macro avg       0.89      0.82      0.84       114\n",
      "weighted avg       0.88      0.86      0.85       114\n",
      "\n",
      "On split 1:\n",
      "               precision    recall  f1-score   support\n",
      "\n",
      "           0       0.91      0.91      0.91        43\n",
      "           1       0.94      0.94      0.94        71\n",
      "\n",
      "    accuracy                           0.93       114\n",
      "   macro avg       0.93      0.93      0.93       114\n",
      "weighted avg       0.93      0.93      0.93       114\n",
      "\n",
      "On split 2:\n",
      "               precision    recall  f1-score   support\n",
      "\n",
      "           0       0.76      0.98      0.85        42\n",
      "           1       0.98      0.82      0.89        72\n",
      "\n",
      "    accuracy                           0.88       114\n",
      "   macro avg       0.87      0.90      0.87       114\n",
      "weighted avg       0.90      0.88      0.88       114\n",
      "\n",
      "On split 3:\n",
      "               precision    recall  f1-score   support\n",
      "\n",
      "           0       1.00      0.69      0.82        42\n",
      "           1       0.85      1.00      0.92        72\n",
      "\n",
      "    accuracy                           0.89       114\n",
      "   macro avg       0.92      0.85      0.87       114\n",
      "weighted avg       0.90      0.89      0.88       114\n",
      "\n",
      "On split 4:\n",
      "               precision    recall  f1-score   support\n",
      "\n",
      "           0       0.68      0.95      0.79        42\n",
      "           1       0.96      0.73      0.83        71\n",
      "\n",
      "    accuracy                           0.81       113\n",
      "   macro avg       0.82      0.84      0.81       113\n",
      "weighted avg       0.86      0.81      0.82       113\n",
      "\n",
      "\n",
      "\n",
      "\n",
      "roc_auc_score\n",
      "On split 0:\n",
      " 0.8185391418277105\n",
      "On split 1:\n",
      " 0.9253193580085163\n",
      "On split 2:\n",
      " 0.8978174603174603\n",
      "On split 3:\n",
      " 0.8452380952380952\n",
      "On split 4:\n",
      " 0.8423876592890677\n",
      "\n",
      "\n",
      "\n",
      "log_loss\n",
      "On split 0:\n",
      " 4.847547564197991\n",
      "On split 1:\n",
      " 2.423773782098996\n",
      "On split 2:\n",
      " 4.2416041186732425\n",
      "On split 3:\n",
      " 3.9386323959108673\n",
      "On split 4:\n",
      " 6.418710657461277\n",
      "\n",
      "\n",
      "\n",
      "confusion_matrix\n",
      "On split 0:\n",
      " [[28 15]\n",
      " [ 1 70]]\n",
      "On split 1:\n",
      " [[39  4]\n",
      " [ 4 67]]\n",
      "On split 2:\n",
      " [[41  1]\n",
      " [13 59]]\n",
      "On split 3:\n",
      " [[29 13]\n",
      " [ 0 72]]\n",
      "On split 4:\n",
      " [[40  2]\n",
      " [19 52]]\n",
      "\n",
      "\n",
      "\n"
     ]
    }
   ],
   "source": [
    "for k, vs in metrics.items():\n",
    "    print(k)\n",
    "    [print(f\"On split {idx}:\\n\", v) for idx, v in enumerate(vs)]\n",
    "    print(\"\\n\\n\")"
   ]
  },
  {
   "cell_type": "markdown",
   "metadata": {},
   "source": [
    "Notice how when not doing statification we have splits with different proportions of the positive and negative class, and how when doing stratification we have a stable number of positive and negative examples."
   ]
  },
  {
   "cell_type": "code",
   "execution_count": null,
   "metadata": {},
   "outputs": [],
   "source": []
  },
  {
   "cell_type": "markdown",
   "metadata": {},
   "source": [
    "Another important mechanism that you can employ to properly validate your models is to do ROC and Precision-Recall curves. To better understand the behaviour of your models. \n",
    "\n",
    "Find [here](https://www.displayr.com/what-is-a-roc-curve-how-to-interpret-it/) how to interpret a ROC curve and [here](https://medium.com/@douglaspsteen/precision-recall-curves-d32e5b290248) the precision-recall curve. Basically the points (not seen here) on these curves are obtained by measuring different predictive performance characteristics of a model given different thresholds."
   ]
  },
  {
   "cell_type": "code",
   "execution_count": 7,
   "metadata": {},
   "outputs": [],
   "source": [
    "from sklearn.metrics import plot_precision_recall_curve\n",
    "from sklearn.metrics import plot_roc_curve\n",
    "\n",
    "import matplotlib.pyplot as plt"
   ]
  },
  {
   "cell_type": "code",
   "execution_count": 9,
   "metadata": {},
   "outputs": [],
   "source": []
  },
  {
   "cell_type": "code",
   "execution_count": 10,
   "metadata": {},
   "outputs": [
    {
     "data": {
      "image/png": "[encoded data removed]",
      "text/plain": [
       "<Figure size 792x360 with 2 Axes>"
      ]
     },
     "metadata": {
      "needs_background": "light"
     },
     "output_type": "display_data"
    }
   ],
   "source": [
    "fig, [ax_roc, ax_pr] = plt.subplots(1, 2, figsize=(11, 5))\n",
    "\n",
    "for split_no, (train_split, test_split) in enumerate(skfold.split(X, y)):\n",
    "    sgd = SGDClassifier(loss=\"log\")\n",
    "    sgd.fit(X[train_split], y[train_split])\n",
    "\n",
    "    plot_roc_curve(sgd, X[test_split], y[test_split],\n",
    "                    ax=ax_roc, name=f\"sgd-{split_no}\", drop_intermediate=False)\n",
    "    plot_precision_recall_curve(sgd, X[test_split], y[test_split],\n",
    "                                 ax=ax_pr, name=f\"sgd-{split_no}\")\n",
    "\n",
    "\n",
    "ax_roc.set_title('Receiver Operating Characteristic (ROC) curves')\n",
    "ax_pr.set_title('Precision-Recall curves')\n",
    "\n",
    "ax_roc.grid(linestyle='--')\n",
    "ax_pr.grid(linestyle='--')\n",
    "\n",
    "plt.legend()\n",
    "plt.show()"
   ]
  },
  {
   "cell_type": "markdown",
   "metadata": {},
   "source": [
    "Maybe plot Precision-Recall curves one by one."
   ]
  },
  {
   "cell_type": "code",
   "execution_count": null,
   "metadata": {},
   "outputs": [],
   "source": []
  },
  {
   "cell_type": "markdown",
   "metadata": {},
   "source": [
    "### Regression example"
   ]
  },
  {
   "cell_type": "code",
   "execution_count": 9,
   "metadata": {},
   "outputs": [],
   "source": [
    "from sklearn.metrics import mean_absolute_percentage_error, mean_squared_error, r2_score"
   ]
  },
  {
   "cell_type": "code",
   "execution_count": 10,
   "metadata": {},
   "outputs": [],
   "source": [
    "# we can't trivially stratify the dataset when faced with a regression problem\n",
    "from sklearn.model_selection import KFold\n",
    "from sklearn.datasets import fetch_openml\n",
    "\n",
    "from sklearn.linear_model import SGDRegressor"
   ]
  },
  {
   "cell_type": "code",
   "execution_count": 11,
   "metadata": {},
   "outputs": [],
   "source": [
    "# Source: https://scikit-learn.org/stable/auto_examples/linear_model/plot_tweedie_regression_insurance_claims.html\n",
    "\n",
    "def load_mtpl2(n_samples=100000):\n",
    "    \"\"\"Fetch the French Motor Third-Party Liability Claims dataset.\n",
    "\n",
    "    Parameters\n",
    "    ----------\n",
    "    n_samples: int, default=100000\n",
    "      number of samples to select (for faster run time). Full dataset has\n",
    "      678013 samples.\n",
    "    \"\"\"\n",
    "    # freMTPL2freq dataset from https://www.openml.org/d/41214\n",
    "    df_freq = fetch_openml(data_id=41214, as_frame=True)['data']\n",
    "    df_freq['IDpol'] = df_freq['IDpol'].astype(int)\n",
    "    df_freq.set_index('IDpol', inplace=True)\n",
    "\n",
    "    # freMTPL2sev dataset from https://www.openml.org/d/41215\n",
    "    df_sev = fetch_openml(data_id=41215, as_frame=True)['data']\n",
    "\n",
    "    # sum ClaimAmount over identical IDs\n",
    "    df_sev = df_sev.groupby('IDpol').sum()\n",
    "\n",
    "    df = df_freq.join(df_sev, how=\"left\")\n",
    "    df[\"ClaimAmount\"].fillna(0, inplace=True)\n",
    "\n",
    "    # unquote string fields\n",
    "    for column_name in df.columns[df.dtypes.values == object]:\n",
    "        df[column_name] = df[column_name].str.strip(\"'\")\n",
    "    return df.iloc[:n_samples]"
   ]
  },
  {
   "cell_type": "code",
   "execution_count": 12,
   "metadata": {},
   "outputs": [],
   "source": [
    "# Source: https://scikit-learn.org/stable/auto_examples/linear_model/plot_tweedie_regression_insurance_claims.html\n",
    "\n",
    "df = load_mtpl2(n_samples=60000)\n",
    "\n",
    "# Note: filter out claims with zero amount, as the severity model\n",
    "# requires strictly positive target values.\n",
    "df.loc[(df[\"ClaimAmount\"] == 0) & (df[\"ClaimNb\"] >= 1), \"ClaimNb\"] = 0\n",
    "\n",
    "# Correct for unreasonable observations (that might be data error)\n",
    "# and a few exceptionally large claim amounts\n",
    "df[\"ClaimNb\"] = df[\"ClaimNb\"].clip(upper=4)\n",
    "df[\"Exposure\"] = df[\"Exposure\"].clip(upper=1)\n",
    "df[\"ClaimAmount\"] = df[\"ClaimAmount\"].clip(upper=200000)"
   ]
  },
  {
   "cell_type": "code",
   "execution_count": 13,
   "metadata": {},
   "outputs": [],
   "source": [
    "from functools import partial\n",
    "\n",
    "import numpy as np\n",
    "import pandas as pd\n",
    "\n",
    "from sklearn.compose import ColumnTransformer\n",
    "from sklearn.pipeline import make_pipeline\n",
    "from sklearn.preprocessing import FunctionTransformer, OneHotEncoder\n",
    "from sklearn.preprocessing import StandardScaler, KBinsDiscretizer\n",
    "\n",
    "\n",
    "log_scale_transformer = make_pipeline(\n",
    "    FunctionTransformer(func=np.log),\n",
    "    StandardScaler()\n",
    ")\n",
    "\n",
    "column_trans = ColumnTransformer(\n",
    "    [\n",
    "        (\"binned_numeric\", KBinsDiscretizer(n_bins=10),\n",
    "            [\"VehAge\", \"DrivAge\"]),\n",
    "        (\"onehot_categorical\", OneHotEncoder(),\n",
    "            [\"VehBrand\", \"VehPower\", \"VehGas\", \"Region\", \"Area\"]),\n",
    "        (\"passthrough_numeric\", \"passthrough\",\n",
    "            [\"BonusMalus\"]),\n",
    "        (\"log_scaled_numeric\", log_scale_transformer,\n",
    "            [\"Density\"]),\n",
    "    ],\n",
    "    remainder=\"drop\",\n",
    ")\n",
    "\n",
    "# Insurances companies are interested in modeling the Pure Premium, that is\n",
    "# the expected total claim amount per unit of exposure for each policyholder\n",
    "# in their portfolio:\n",
    "df[\"PurePremium\"] = df[\"ClaimAmount\"] / df[\"Exposure\"]\n",
    "\n",
    "# This can be indirectly approximated by a 2-step modeling: the product of the\n",
    "# Frequency times the average claim amount per claim:\n",
    "df[\"Frequency\"] = df[\"ClaimNb\"] / df[\"Exposure\"]\n",
    "df[\"AvgClaimAmount\"] = df[\"ClaimAmount\"] / np.fmax(df[\"ClaimNb\"], 1)"
   ]
  },
  {
   "cell_type": "code",
   "execution_count": null,
   "metadata": {},
   "outputs": [],
   "source": []
  },
  {
   "cell_type": "code",
   "execution_count": 15,
   "metadata": {},
   "outputs": [],
   "source": [
    "# Based on: https://medium.com/analytics-vidhya/probabilistic-model-selection-with-aic-bic-in-python-f8471d6add32\n",
    "\n",
    "def adj_r2(y, y_hat, X):\n",
    "    r2 = r2_score(y, y_hat)\n",
    "    n, p = X.shape[0], X.shape[1]\n",
    "    return 1 - (1 - r2) * (n - 1) / (n - p - 1)\n",
    "\n",
    "\n",
    "def aic(y, y_hat, X):\n",
    "    return 2 * X.shape[1] - 2 * np.log(mean_squared_error(y, y_hat))\n",
    "\n",
    "\n",
    "def aic_c(y, y_hat, X):\n",
    "    k, n = X.shape[1], X.shape[0]\n",
    "    return aic(y, y_hat, X) + (2 * k * k + 2 * k) / (n - k - 1)\n",
    "\n",
    "\n",
    "def bic(y, y_hat, X):\n",
    "    return np.log(X.shape[0]) * X.shape[1] - 2 * np.log(mean_squared_error(y, y_hat))"
   ]
  },
  {
   "cell_type": "markdown",
   "metadata": {},
   "source": [
    "Notice that adjusted R2, AIC, AICc and BIC all depend on the number of parameters a model has. That's why it is possible for example to use these metrics INSTEAD of cross-validation for model selection, but be careful."
   ]
  },
  {
   "cell_type": "code",
   "execution_count": 16,
   "metadata": {},
   "outputs": [
    {
     "name": "stderr",
     "output_type": "stream",
     "text": [
      "/home/alexburlacu/anaconda3/lib/python3.7/site-packages/sklearn/preprocessing/_discretization.py:222: UserWarning: Bins whose width are too small (i.e., <= 1e-8) in feature 0 are removed. Consider decreasing the number of bins.\n",
      "  'decreasing the number of bins.' % jj)\n"
     ]
    },
    {
     "name": "stdout",
     "output_type": "stream",
     "text": [
      "Adjusted R2: -1062925310.8096064\n",
      "AIC: 76.21847104869822\n",
      "AICc 76.45008294228194\n",
      "BIC 725.8612365005603\n",
      "\n",
      "Adjusted R2: -1.2925990516288022\n",
      "AIC: 116.14662564686324\n",
      "AICc 116.37823754044696\n",
      "BIC 765.7893910987253\n",
      "\n",
      "Adjusted R2: -0.9928061469270035\n",
      "AIC: 116.619157122474\n",
      "AICc 116.85076901605771\n",
      "BIC 766.261922574336\n",
      "\n",
      "Adjusted R2: -0.5663174787031247\n",
      "AIC: 116.83168488650026\n",
      "AICc 117.06329678008397\n",
      "BIC 766.4744503383623\n",
      "\n",
      "Adjusted R2: -0.5282604622969094\n",
      "AIC: 117.61718286397705\n",
      "AICc 117.84879475756077\n",
      "BIC 767.2599483158391\n",
      "\n"
     ]
    }
   ],
   "source": [
    "X = column_trans.fit_transform(df)\n",
    "y = df.ClaimAmount.values\n",
    "\n",
    "skfold = KFold()\n",
    "metrics = {\"rmse\": [], \"mape\": [], \"r2\": []}\n",
    "\n",
    "for train_split, test_split in skfold.split(X, y):\n",
    "    sgd = SGDRegressor(max_iter=10_000)\n",
    "    sgd.fit(X[train_split], y[train_split])\n",
    "    pred = sgd.predict(X[test_split])\n",
    "    \n",
    "    # AIC, AICc, BIC and Adjusted R2, all estimate the goodness of fit,\n",
    "    # that's why we use predictions on the train set, not test set\n",
    "    pred_on_train = sgd.predict(X[train_split])\n",
    "    print(\"Adjusted R2:\", adj_r2(y[train_split], pred_on_train, X[train_split]))\n",
    "    print(\"AIC:\", aic(y[train_split], pred_on_train, X[train_split]))\n",
    "    print(\"AICc\", aic_c(y[train_split], pred_on_train, X[train_split]))\n",
    "    print(\"BIC\", bic(y[train_split], pred_on_train, X[train_split]))\n",
    "    print()\n",
    "    \n",
    "    metrics[\"rmse\"].append(mean_squared_error(y[test_split], pred, squared=False))\n",
    "    metrics[\"mape\"].append(mean_absolute_percentage_error(y[test_split], pred))\n",
    "    metrics[\"r2\"].append(r2_score(y[test_split], pred))"
   ]
  },
  {
   "cell_type": "code",
   "execution_count": 17,
   "metadata": {},
   "outputs": [
    {
     "name": "stdout",
     "output_type": "stream",
     "text": [
      "rmse\n",
      "On split 0:\n",
      " 204937409.49844682\n",
      "On split 1:\n",
      " 2663.5761784887286\n",
      "On split 2:\n",
      " 2900.114912147473\n",
      "On split 3:\n",
      " 1965.2084117921945\n",
      "On split 4:\n",
      " 2761.6155641855976\n",
      "\n",
      "\n",
      "\n",
      "mape\n",
      "On split 0:\n",
      " 2.113855920255991e+23\n",
      "On split 1:\n",
      " 1.3290720094497613e+18\n",
      "On split 2:\n",
      " 3.522465899151058e+18\n",
      "On split 3:\n",
      " 2.3902503250823316e+18\n",
      "On split 4:\n",
      " 2.8230034485972736e+18\n",
      "\n",
      "\n",
      "\n",
      "r2\n",
      "On split 0:\n",
      " -18251984313.547718\n",
      "On split 1:\n",
      " -1.9083644050159378\n",
      "On split 2:\n",
      " -1.2358442661751465\n",
      "On split 3:\n",
      " -1.060986162726345\n",
      "On split 4:\n",
      " -0.1746719834453534\n",
      "\n",
      "\n",
      "\n"
     ]
    }
   ],
   "source": [
    "for k, vs in metrics.items():\n",
    "    print(k)\n",
    "    [print(f\"On split {idx}:\\n\", v) for idx, v in enumerate(vs)]\n",
    "    print(\"\\n\\n\")"
   ]
  },
  {
   "cell_type": "code",
   "execution_count": null,
   "metadata": {},
   "outputs": [],
   "source": []
  },
  {
   "cell_type": "markdown",
   "metadata": {},
   "source": [
    "See also:\n",
    "- https://scikit-learn.org/stable/auto_examples/model_selection/plot_learning_curve.html\n",
    "- https://scikit-learn.org/stable/auto_examples/model_selection/plot_validation_curve.html\n",
    "- https://danilzherebtsov.medium.com/continuous-data-stratification-c121fc91964b\n",
    "- https://scikit-learn.org/stable/auto_examples/exercises/plot_cv_diabetes.html\n",
    "- https://stackoverflow.com/questions/54945196/sklearn-stratified-k-fold-cv-with-linear-model-like-elasticnetcv\n"
   ]
  },
  {
   "cell_type": "code",
   "execution_count": null,
   "metadata": {},
   "outputs": [],
   "source": []
  }
 ],
 "metadata": {
  "kernelspec": {
   "display_name": "Python 3",
   "language": "python",
   "name": "python3"
  },
  "language_info": {
   "codemirror_mode": {
    "name": "ipython",
    "version": 3
   },
   "file_extension": ".py",
   "mimetype": "text/x-python",
   "name": "python",
   "nbconvert_exporter": "python",
   "pygments_lexer": "ipython3",
   "version": "3.7.3"
  }
 },
 "nbformat": 4,
 "nbformat_minor": 2
}
