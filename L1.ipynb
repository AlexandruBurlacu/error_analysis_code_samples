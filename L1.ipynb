{
 "cells": [
  {
   "cell_type": "markdown",
   "metadata": {},
   "source": [
    "## L1 - Detailed Metrics and Cross-validation"
   ]
  },
  {
   "cell_type": "markdown",
   "metadata": {},
   "source": [
    "### Classification example"
   ]
  },
  {
   "cell_type": "code",
   "execution_count": 1,
   "metadata": {},
   "outputs": [],
   "source": [
    "from sklearn.metrics import classification_report, roc_auc_score, log_loss, confusion_matrix"
   ]
  },
  {
   "cell_type": "code",
   "execution_count": 2,
   "metadata": {},
   "outputs": [],
   "source": [
    "from sklearn.model_selection import StratifiedKFold\n",
    "from sklearn.datasets import load_breast_cancer\n",
    "\n",
    "from sklearn.linear_model import SGDClassifier"
   ]
  },
  {
   "cell_type": "code",
   "execution_count": 3,
   "metadata": {},
   "outputs": [
    {
     "name": "stdout",
     "output_type": "stream",
     "text": [
      "Accuracy on the split is 0.8421052631578947\n",
      "Accuracy on the split is 0.9122807017543859\n",
      "Accuracy on the split is 0.9035087719298246\n",
      "Accuracy on the split is 0.956140350877193\n",
      "Accuracy on the split is 0.9203539823008849\n"
     ]
    }
   ],
   "source": [
    "X, y = load_breast_cancer(return_X_y=True)\n",
    "skfold = StratifiedKFold()\n",
    "\n",
    "metrics = {\"classification_report\": [], \"roc_auc_score\": [], \"log_loss\": [], \"confusion_matrix\": []}\n",
    "\n",
    "for train_split, test_split in skfold.split(X, y):\n",
    "    sgd = SGDClassifier(loss=\"log\")\n",
    "    sgd.fit(X[train_split], y[train_split])\n",
    "    pred_proba = sgd.predict_proba(X[test_split])\n",
    "    pred = sgd.predict(X[test_split])\n",
    "    metrics[\"classification_report\"].append(classification_report(y[test_split], pred))\n",
    "    metrics[\"confusion_matrix\"].append(confusion_matrix(y[test_split], pred))\n",
    "    metrics[\"roc_auc_score\"].append(roc_auc_score(y[test_split], pred))\n",
    "    metrics[\"log_loss\"].append(log_loss(y[test_split], pred_proba))\n",
    "    \n",
    "    print(\"Accuracy on the split is\", sgd.score(X[test_split], y[test_split]))"
   ]
  },
  {
   "cell_type": "code",
   "execution_count": 4,
   "metadata": {},
   "outputs": [
    {
     "name": "stdout",
     "output_type": "stream",
     "text": [
      "classification_report\n",
      "On split 0:\n",
      "               precision    recall  f1-score   support\n",
      "\n",
      "           0       0.72      0.95      0.82        43\n",
      "           1       0.96      0.77      0.86        71\n",
      "\n",
      "    accuracy                           0.84       114\n",
      "   macro avg       0.84      0.86      0.84       114\n",
      "weighted avg       0.87      0.84      0.84       114\n",
      "\n",
      "On split 1:\n",
      "               precision    recall  f1-score   support\n",
      "\n",
      "           0       0.97      0.79      0.87        43\n",
      "           1       0.89      0.99      0.93        71\n",
      "\n",
      "    accuracy                           0.91       114\n",
      "   macro avg       0.93      0.89      0.90       114\n",
      "weighted avg       0.92      0.91      0.91       114\n",
      "\n",
      "On split 2:\n",
      "               precision    recall  f1-score   support\n",
      "\n",
      "           0       0.82      0.95      0.88        42\n",
      "           1       0.97      0.88      0.92        72\n",
      "\n",
      "    accuracy                           0.90       114\n",
      "   macro avg       0.89      0.91      0.90       114\n",
      "weighted avg       0.91      0.90      0.90       114\n",
      "\n",
      "On split 3:\n",
      "               precision    recall  f1-score   support\n",
      "\n",
      "           0       0.97      0.90      0.94        42\n",
      "           1       0.95      0.99      0.97        72\n",
      "\n",
      "    accuracy                           0.96       114\n",
      "   macro avg       0.96      0.95      0.95       114\n",
      "weighted avg       0.96      0.96      0.96       114\n",
      "\n",
      "On split 4:\n",
      "               precision    recall  f1-score   support\n",
      "\n",
      "           0       0.90      0.88      0.89        42\n",
      "           1       0.93      0.94      0.94        71\n",
      "\n",
      "    accuracy                           0.92       113\n",
      "   macro avg       0.92      0.91      0.91       113\n",
      "weighted avg       0.92      0.92      0.92       113\n",
      "\n",
      "\n",
      "\n",
      "\n",
      "roc_auc_score\n",
      "On split 0:\n",
      " 0.8640681297084835\n",
      "On split 1:\n",
      " 0.8883065836881755\n",
      "On split 2:\n",
      " 0.9136904761904762\n",
      "On split 3:\n",
      " 0.945436507936508\n",
      "On split 4:\n",
      " 0.9123071763916835\n",
      "\n",
      "\n",
      "\n",
      "log_loss\n",
      "On split 0:\n",
      " 5.4534910097227405\n",
      "On split 1:\n",
      " 3.029717227623744\n",
      "On split 2:\n",
      " 3.332688950386119\n",
      "On split 3:\n",
      " 1.514858613811873\n",
      "On split 4:\n",
      " 2.7508759960548335\n",
      "\n",
      "\n",
      "\n",
      "confusion_matrix\n",
      "On split 0:\n",
      " [[41  2]\n",
      " [16 55]]\n",
      "On split 1:\n",
      " [[34  9]\n",
      " [ 1 70]]\n",
      "On split 2:\n",
      " [[40  2]\n",
      " [ 9 63]]\n",
      "On split 3:\n",
      " [[38  4]\n",
      " [ 1 71]]\n",
      "On split 4:\n",
      " [[37  5]\n",
      " [ 4 67]]\n",
      "\n",
      "\n",
      "\n"
     ]
    }
   ],
   "source": [
    "for k, vs in metrics.items():\n",
    "    print(k)\n",
    "    [print(f\"On split {idx}:\\n\", v) for idx, v in enumerate(vs)]\n",
    "    print(\"\\n\\n\")"
   ]
  },
  {
   "cell_type": "code",
   "execution_count": 18,
   "metadata": {},
   "outputs": [],
   "source": [
    "from sklearn.metrics import plot_precision_recall_curve\n",
    "from sklearn.metrics import plot_roc_curve\n",
    "\n",
    "import matplotlib.pyplot as plt"
   ]
  },
  {
   "cell_type": "code",
   "execution_count": 19,
   "metadata": {},
   "outputs": [
    {
     "data": {
      "image/png": "[encoded data removed]",
      "text/plain": [
       "<Figure size 792x360 with 2 Axes>"
      ]
     },
     "metadata": {
      "needs_background": "light"
     },
     "output_type": "display_data"
    }
   ],
   "source": [
    "fig, [ax_roc, ax_pr] = plt.subplots(1, 2, figsize=(11, 5))\n",
    "\n",
    "for split_no, (train_split, test_split) in enumerate(skfold.split(X, y)):\n",
    "    sgd = SGDClassifier(loss=\"log\")\n",
    "    sgd.fit(X[train_split], y[train_split])\n",
    "\n",
    "    plot_roc_curve(sgd, X[test_split], y[test_split], ax=ax_roc, name=f\"sgd-{split_no}\")\n",
    "    plot_precision_recall_curve(sgd, X[test_split], y[test_split], ax=ax_pr, name=f\"sgd-{split_no}\")\n",
    "\n",
    "\n",
    "ax_roc.set_title('Receiver Operating Characteristic (ROC) curves')\n",
    "ax_pr.set_title('Precision-Recall curves')\n",
    "\n",
    "ax_roc.grid(linestyle='--')\n",
    "ax_pr.grid(linestyle='--')\n",
    "\n",
    "plt.legend()\n",
    "plt.show()"
   ]
  },
  {
   "cell_type": "markdown",
   "metadata": {},
   "source": [
    "Maybe plot Precision-Recall curves one by one."
   ]
  },
  {
   "cell_type": "code",
   "execution_count": null,
   "metadata": {},
   "outputs": [],
   "source": []
  },
  {
   "cell_type": "markdown",
   "metadata": {},
   "source": [
    "### Regression example"
   ]
  },
  {
   "cell_type": "code",
   "execution_count": 1,
   "metadata": {},
   "outputs": [],
   "source": [
    "from sklearn.metrics import mean_absolute_percentage_error, mean_squared_error, r2_score"
   ]
  },
  {
   "cell_type": "code",
   "execution_count": 2,
   "metadata": {},
   "outputs": [],
   "source": [
    "from sklearn.model_selection import KFold\n",
    "from sklearn.datasets import fetch_openml\n",
    "\n",
    "from sklearn.linear_model import SGDRegressor"
   ]
  },
  {
   "cell_type": "code",
   "execution_count": 3,
   "metadata": {},
   "outputs": [],
   "source": [
    "# Source: https://scikit-learn.org/stable/auto_examples/linear_model/plot_tweedie_regression_insurance_claims.html\n",
    "\n",
    "def load_mtpl2(n_samples=100000):\n",
    "    \"\"\"Fetch the French Motor Third-Party Liability Claims dataset.\n",
    "\n",
    "    Parameters\n",
    "    ----------\n",
    "    n_samples: int, default=100000\n",
    "      number of samples to select (for faster run time). Full dataset has\n",
    "      678013 samples.\n",
    "    \"\"\"\n",
    "    # freMTPL2freq dataset from https://www.openml.org/d/41214\n",
    "    df_freq = fetch_openml(data_id=41214, as_frame=True)['data']\n",
    "    df_freq['IDpol'] = df_freq['IDpol'].astype(int)\n",
    "    df_freq.set_index('IDpol', inplace=True)\n",
    "\n",
    "    # freMTPL2sev dataset from https://www.openml.org/d/41215\n",
    "    df_sev = fetch_openml(data_id=41215, as_frame=True)['data']\n",
    "\n",
    "    # sum ClaimAmount over identical IDs\n",
    "    df_sev = df_sev.groupby('IDpol').sum()\n",
    "\n",
    "    df = df_freq.join(df_sev, how=\"left\")\n",
    "    df[\"ClaimAmount\"].fillna(0, inplace=True)\n",
    "\n",
    "    # unquote string fields\n",
    "    for column_name in df.columns[df.dtypes.values == object]:\n",
    "        df[column_name] = df[column_name].str.strip(\"'\")\n",
    "    return df.iloc[:n_samples]"
   ]
  },
  {
   "cell_type": "code",
   "execution_count": 4,
   "metadata": {},
   "outputs": [],
   "source": [
    "# Source: https://scikit-learn.org/stable/auto_examples/linear_model/plot_tweedie_regression_insurance_claims.html\n",
    "\n",
    "df = load_mtpl2(n_samples=60000)\n",
    "\n",
    "# Note: filter out claims with zero amount, as the severity model\n",
    "# requires strictly positive target values.\n",
    "df.loc[(df[\"ClaimAmount\"] == 0) & (df[\"ClaimNb\"] >= 1), \"ClaimNb\"] = 0\n",
    "\n",
    "# Correct for unreasonable observations (that might be data error)\n",
    "# and a few exceptionally large claim amounts\n",
    "df[\"ClaimNb\"] = df[\"ClaimNb\"].clip(upper=4)\n",
    "df[\"Exposure\"] = df[\"Exposure\"].clip(upper=1)\n",
    "df[\"ClaimAmount\"] = df[\"ClaimAmount\"].clip(upper=200000)"
   ]
  },
  {
   "cell_type": "code",
   "execution_count": 5,
   "metadata": {},
   "outputs": [],
   "source": [
    "from functools import partial\n",
    "\n",
    "import numpy as np\n",
    "import pandas as pd\n",
    "\n",
    "from sklearn.compose import ColumnTransformer\n",
    "from sklearn.pipeline import make_pipeline\n",
    "from sklearn.preprocessing import FunctionTransformer, OneHotEncoder\n",
    "from sklearn.preprocessing import StandardScaler, KBinsDiscretizer\n",
    "\n",
    "\n",
    "log_scale_transformer = make_pipeline(\n",
    "    FunctionTransformer(func=np.log),\n",
    "    StandardScaler()\n",
    ")\n",
    "\n",
    "column_trans = ColumnTransformer(\n",
    "    [\n",
    "        (\"binned_numeric\", KBinsDiscretizer(n_bins=10),\n",
    "            [\"VehAge\", \"DrivAge\"]),\n",
    "        (\"onehot_categorical\", OneHotEncoder(),\n",
    "            [\"VehBrand\", \"VehPower\", \"VehGas\", \"Region\", \"Area\"]),\n",
    "        (\"passthrough_numeric\", \"passthrough\",\n",
    "            [\"BonusMalus\"]),\n",
    "        (\"log_scaled_numeric\", log_scale_transformer,\n",
    "            [\"Density\"]),\n",
    "    ],\n",
    "    remainder=\"drop\",\n",
    ")\n",
    "\n",
    "# Insurances companies are interested in modeling the Pure Premium, that is\n",
    "# the expected total claim amount per unit of exposure for each policyholder\n",
    "# in their portfolio:\n",
    "df[\"PurePremium\"] = df[\"ClaimAmount\"] / df[\"Exposure\"]\n",
    "\n",
    "# This can be indirectly approximated by a 2-step modeling: the product of the\n",
    "# Frequency times the average claim amount per claim:\n",
    "df[\"Frequency\"] = df[\"ClaimNb\"] / df[\"Exposure\"]\n",
    "df[\"AvgClaimAmount\"] = df[\"ClaimAmount\"] / np.fmax(df[\"ClaimNb\"], 1)"
   ]
  },
  {
   "cell_type": "code",
   "execution_count": 9,
   "metadata": {},
   "outputs": [],
   "source": [
    "# https://medium.com/analytics-vidhya/probabilistic-model-selection-with-aic-bic-in-python-f8471d6add32\n",
    "\n",
    "def adj_r2(y, y_hat, X):\n",
    "    r2 = r2_score(y, y_hat)\n",
    "    n, p = X.shape[0], X.shape[1]\n",
    "    return 1 - (1 - r2) * (n - 1) / (n - p - 1)\n",
    "\n",
    "\n",
    "def aic(y, y_hat, X):\n",
    "    return 2 * X.shape[1] - 2 * np.log(mean_squared_error(y, y_hat))\n",
    "\n",
    "\n",
    "def aic_c(y, y_hat, X):\n",
    "    k, n = X.shape[1], X.shape[0]\n",
    "    return aic(y, y_hat, X) + (2 * k * k + 2 * k) / (n - k - 1)\n",
    "\n",
    "\n",
    "def bic(y, y_hat, X):\n",
    "    return np.log(X.shape[0]) * X.shape[1] - 2 * np.log(mean_squared_error(y, y_hat))"
   ]
  },
  {
   "cell_type": "code",
   "execution_count": 11,
   "metadata": {},
   "outputs": [
    {
     "name": "stderr",
     "output_type": "stream",
     "text": [
      "/home/alexburlacu/anaconda3/lib/python3.7/site-packages/sklearn/preprocessing/_discretization.py:222: UserWarning: Bins whose width are too small (i.e., <= 1e-8) in feature 0 are removed. Consider decreasing the number of bins.\n",
      "  'decreasing the number of bins.' % jj)\n"
     ]
    },
    {
     "name": "stdout",
     "output_type": "stream",
     "text": [
      "-50906618.52462311\n",
      "82.29604534763813\n",
      "82.52765724122185\n",
      "731.9388107995002\n",
      "-0.21314855345613326\n",
      "117.41955972837718\n",
      "117.6511716219609\n",
      "767.0623251802392\n",
      "-1.3606507861849448\n",
      "116.28036998576881\n",
      "116.51198187935253\n",
      "765.9231354376309\n",
      "-0.7125382450473341\n",
      "116.65318625748374\n",
      "116.88479815106746\n",
      "766.2959517093458\n",
      "-0.7535923580939468\n",
      "117.34211021580272\n",
      "117.57372210938644\n",
      "766.9848756676647\n"
     ]
    }
   ],
   "source": [
    "X = column_trans.fit_transform(df)\n",
    "y = df.ClaimAmount.values\n",
    "\n",
    "skfold = KFold()\n",
    "metrics = {\"rmse\": [], \"mape\": [], \"r2\": []}\n",
    "\n",
    "for train_split, test_split in skfold.split(X, y):\n",
    "    sgd = SGDRegressor(max_iter=10_000)\n",
    "    sgd.fit(X[train_split], y[train_split])\n",
    "    pred = sgd.predict(X[test_split])\n",
    "    \n",
    "    pred_ = sgd.predict(X[train_split])\n",
    "    print(adj_r2(y[train_split], pred_, X[train_split]))\n",
    "    print(aic(y[train_split], pred_, X[train_split]))\n",
    "    print(aic_c(y[train_split], pred_, X[train_split]))\n",
    "    print(bic(y[train_split], pred_, X[train_split]))\n",
    "    print()\n",
    "    \n",
    "    metrics[\"rmse\"].append(mean_squared_error(y[test_split], pred, squared=False))\n",
    "    metrics[\"mape\"].append(mean_absolute_percentage_error(y[test_split], pred))\n",
    "    metrics[\"r2\"].append(r2_score(y[test_split], pred))"
   ]
  },
  {
   "cell_type": "code",
   "execution_count": 8,
   "metadata": {},
   "outputs": [
    {
     "name": "stdout",
     "output_type": "stream",
     "text": [
      "rmse\n",
      "On split 0:\n",
      " 228941762.74514997\n",
      "On split 1:\n",
      " 2115.73679210225\n",
      "On split 2:\n",
      " 23488769.559470326\n",
      "On split 3:\n",
      " 3105.6141868112186\n",
      "On split 4:\n",
      " 2836.77302753825\n",
      "\n",
      "\n",
      "\n",
      "mape\n",
      "On split 0:\n",
      " 6.259678763148708e+23\n",
      "On split 1:\n",
      " 1.5465199224592215e+18\n",
      "On split 2:\n",
      " 1.0383001475741364e+22\n",
      "On split 3:\n",
      " 4.823221355436087e+18\n",
      "On split 4:\n",
      " 4.347182015115834e+18\n",
      "\n",
      "\n",
      "\n",
      "r2\n",
      "On split 0:\n",
      " -22778107965.65319\n",
      "On split 1:\n",
      " -0.8350244416125194\n",
      "On split 2:\n",
      " -146666750.1063814\n",
      "On split 3:\n",
      " -4.1469843897754215\n",
      "On split 4:\n",
      " -0.23947949131420354\n",
      "\n",
      "\n",
      "\n"
     ]
    }
   ],
   "source": [
    "for k, vs in metrics.items():\n",
    "    print(k)\n",
    "    [print(f\"On split {idx}:\\n\", v) for idx, v in enumerate(vs)]\n",
    "    print(\"\\n\\n\")"
   ]
  },
  {
   "cell_type": "code",
   "execution_count": null,
   "metadata": {},
   "outputs": [],
   "source": []
  },
  {
   "cell_type": "markdown",
   "metadata": {},
   "source": [
    "See also:\n",
    "- https://scikit-learn.org/stable/auto_examples/model_selection/plot_learning_curve.html\n",
    "- https://scikit-learn.org/stable/auto_examples/model_selection/plot_validation_curve.html\n",
    "- https://danilzherebtsov.medium.com/continuous-data-stratification-c121fc91964b\n",
    "- https://scikit-learn.org/stable/auto_examples/exercises/plot_cv_diabetes.html\n",
    "- https://stackoverflow.com/questions/54945196/sklearn-stratified-k-fold-cv-with-linear-model-like-elasticnetcv\n"
   ]
  },
  {
   "cell_type": "code",
   "execution_count": null,
   "metadata": {},
   "outputs": [],
   "source": []
  }
 ],
 "metadata": {
  "kernelspec": {
   "display_name": "Python 3",
   "language": "python",
   "name": "python3"
  },
  "language_info": {
   "codemirror_mode": {
    "name": "ipython",
    "version": 3
   },
   "file_extension": ".py",
   "mimetype": "text/x-python",
   "name": "python",
   "nbconvert_exporter": "python",
   "pygments_lexer": "ipython3",
   "version": "3.7.3"
  }
 },
 "nbformat": 4,
 "nbformat_minor": 2
}
