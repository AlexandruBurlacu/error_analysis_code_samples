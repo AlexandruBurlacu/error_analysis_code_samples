{
 "cells": [
  {
   "cell_type": "markdown",
   "metadata": {},
   "source": [
    "# L3: Cohort analysis and other error analysis methods"
   ]
  },
  {
   "cell_type": "markdown",
   "metadata": {},
   "source": [
    "## Setup"
   ]
  },
  {
   "cell_type": "code",
   "execution_count": 2,
   "metadata": {},
   "outputs": [],
   "source": [
    "import numpy as np\n",
    "\n",
    "np.random.seed(41)\n",
    "\n",
    "\n",
    "import shap\n",
    "\n",
    "X, y = shap.datasets.adult()"
   ]
  },
  {
   "cell_type": "code",
   "execution_count": 3,
   "metadata": {},
   "outputs": [
    {
     "data": {
      "text/html": [
       "<div>\n",
       "<style scoped>\n",
       "    .dataframe tbody tr th:only-of-type {\n",
       "        vertical-align: middle;\n",
       "    }\n",
       "\n",
       "    .dataframe tbody tr th {\n",
       "        vertical-align: top;\n",
       "    }\n",
       "\n",
       "    .dataframe thead th {\n",
       "        text-align: right;\n",
       "    }\n",
       "</style>\n",
       "<table border=\"1\" class=\"dataframe\">\n",
       "  <thead>\n",
       "    <tr style=\"text-align: right;\">\n",
       "      <th></th>\n",
       "      <th>Age</th>\n",
       "      <th>Workclass</th>\n",
       "      <th>Education-Num</th>\n",
       "      <th>Marital Status</th>\n",
       "      <th>Occupation</th>\n",
       "      <th>Relationship</th>\n",
       "      <th>Race</th>\n",
       "      <th>Sex</th>\n",
       "      <th>Capital Gain</th>\n",
       "      <th>Capital Loss</th>\n",
       "      <th>Hours per week</th>\n",
       "      <th>Country</th>\n",
       "    </tr>\n",
       "  </thead>\n",
       "  <tbody>\n",
       "    <tr>\n",
       "      <th>31346</th>\n",
       "      <td>64.0</td>\n",
       "      <td>1</td>\n",
       "      <td>10.0</td>\n",
       "      <td>2</td>\n",
       "      <td>14</td>\n",
       "      <td>4</td>\n",
       "      <td>4</td>\n",
       "      <td>1</td>\n",
       "      <td>0.0</td>\n",
       "      <td>0.0</td>\n",
       "      <td>40.0</td>\n",
       "      <td>39</td>\n",
       "    </tr>\n",
       "    <tr>\n",
       "      <th>26864</th>\n",
       "      <td>17.0</td>\n",
       "      <td>4</td>\n",
       "      <td>7.0</td>\n",
       "      <td>4</td>\n",
       "      <td>8</td>\n",
       "      <td>3</td>\n",
       "      <td>4</td>\n",
       "      <td>0</td>\n",
       "      <td>0.0</td>\n",
       "      <td>0.0</td>\n",
       "      <td>5.0</td>\n",
       "      <td>39</td>\n",
       "    </tr>\n",
       "    <tr>\n",
       "      <th>30544</th>\n",
       "      <td>24.0</td>\n",
       "      <td>4</td>\n",
       "      <td>10.0</td>\n",
       "      <td>4</td>\n",
       "      <td>6</td>\n",
       "      <td>3</td>\n",
       "      <td>4</td>\n",
       "      <td>1</td>\n",
       "      <td>0.0</td>\n",
       "      <td>0.0</td>\n",
       "      <td>30.0</td>\n",
       "      <td>39</td>\n",
       "    </tr>\n",
       "    <tr>\n",
       "      <th>17397</th>\n",
       "      <td>45.0</td>\n",
       "      <td>4</td>\n",
       "      <td>10.0</td>\n",
       "      <td>2</td>\n",
       "      <td>3</td>\n",
       "      <td>4</td>\n",
       "      <td>4</td>\n",
       "      <td>1</td>\n",
       "      <td>0.0</td>\n",
       "      <td>1848.0</td>\n",
       "      <td>40.0</td>\n",
       "      <td>39</td>\n",
       "    </tr>\n",
       "    <tr>\n",
       "      <th>10168</th>\n",
       "      <td>28.0</td>\n",
       "      <td>4</td>\n",
       "      <td>13.0</td>\n",
       "      <td>4</td>\n",
       "      <td>10</td>\n",
       "      <td>0</td>\n",
       "      <td>4</td>\n",
       "      <td>0</td>\n",
       "      <td>0.0</td>\n",
       "      <td>0.0</td>\n",
       "      <td>40.0</td>\n",
       "      <td>39</td>\n",
       "    </tr>\n",
       "  </tbody>\n",
       "</table>\n",
       "</div>"
      ],
      "text/plain": [
       "        Age  Workclass  Education-Num  Marital Status  Occupation  \\\n",
       "31346  64.0          1           10.0               2          14   \n",
       "26864  17.0          4            7.0               4           8   \n",
       "30544  24.0          4           10.0               4           6   \n",
       "17397  45.0          4           10.0               2           3   \n",
       "10168  28.0          4           13.0               4          10   \n",
       "\n",
       "       Relationship  Race  Sex  Capital Gain  Capital Loss  Hours per week  \\\n",
       "31346             4     4    1           0.0           0.0            40.0   \n",
       "26864             3     4    0           0.0           0.0             5.0   \n",
       "30544             3     4    1           0.0           0.0            30.0   \n",
       "17397             4     4    1           0.0        1848.0            40.0   \n",
       "10168             0     4    0           0.0           0.0            40.0   \n",
       "\n",
       "       Country  \n",
       "31346       39  \n",
       "26864       39  \n",
       "30544       39  \n",
       "17397       39  \n",
       "10168       39  "
      ]
     },
     "execution_count": 3,
     "metadata": {},
     "output_type": "execute_result"
    }
   ],
   "source": [
    "X.sample(5)"
   ]
  },
  {
   "cell_type": "code",
   "execution_count": 4,
   "metadata": {},
   "outputs": [],
   "source": [
    "from sklearn.model_selection import train_test_split\n",
    "from sklearn.neighbors import KNeighborsClassifier\n",
    "\n",
    "\n",
    "X_train, X_valid, y_train, y_valid = train_test_split(X, y, test_size=0.2, random_state=7)"
   ]
  },
  {
   "cell_type": "code",
   "execution_count": 5,
   "metadata": {},
   "outputs": [
    {
     "data": {
      "text/plain": [
       "KNeighborsClassifier()"
      ]
     },
     "execution_count": 5,
     "metadata": {},
     "output_type": "execute_result"
    }
   ],
   "source": [
    "knn = KNeighborsClassifier()\n",
    "knn.fit(X_train, y_train)"
   ]
  },
  {
   "cell_type": "code",
   "execution_count": 6,
   "metadata": {},
   "outputs": [
    {
     "data": {
      "text/plain": [
       "0.8464609243052357"
      ]
     },
     "execution_count": 6,
     "metadata": {},
     "output_type": "execute_result"
    }
   ],
   "source": [
    "knn.score(X_valid, y_valid)"
   ]
  },
  {
   "cell_type": "code",
   "execution_count": null,
   "metadata": {},
   "outputs": [],
   "source": []
  },
  {
   "cell_type": "code",
   "execution_count": null,
   "metadata": {},
   "outputs": [],
   "source": []
  },
  {
   "cell_type": "markdown",
   "metadata": {},
   "source": [
    "## Groupings into cohorts"
   ]
  },
  {
   "cell_type": "markdown",
   "metadata": {},
   "source": [
    "#### Based on sex"
   ]
  },
  {
   "cell_type": "code",
   "execution_count": 6,
   "metadata": {},
   "outputs": [],
   "source": [
    "X_valid_reindex = X_valid.reset_index().drop(\"index\", axis=1)"
   ]
  },
  {
   "cell_type": "code",
   "execution_count": 7,
   "metadata": {},
   "outputs": [],
   "source": [
    "X_valid_males = X_valid_reindex[X_valid_reindex[\"Sex\"] == 1]\n",
    "X_valid_females = X_valid_reindex[X_valid_reindex[\"Sex\"] == 0]"
   ]
  },
  {
   "cell_type": "code",
   "execution_count": 9,
   "metadata": {},
   "outputs": [
    {
     "data": {
      "text/plain": [
       "0.8111904213677181"
      ]
     },
     "execution_count": 9,
     "metadata": {},
     "output_type": "execute_result"
    }
   ],
   "source": [
    "knn.score(X_valid_males, y_valid[X_valid_males.index])"
   ]
  },
  {
   "cell_type": "code",
   "execution_count": 10,
   "metadata": {},
   "outputs": [
    {
     "data": {
      "text/plain": [
       "0.9170506912442397"
      ]
     },
     "execution_count": 10,
     "metadata": {},
     "output_type": "execute_result"
    }
   ],
   "source": [
    "knn.score(X_valid_females, y_valid[X_valid_females.index])"
   ]
  },
  {
   "cell_type": "markdown",
   "metadata": {},
   "source": [
    "#### Based on number of years of education"
   ]
  },
  {
   "cell_type": "code",
   "execution_count": 11,
   "metadata": {},
   "outputs": [],
   "source": [
    "X_valid_reindex = X_valid.reset_index().drop(\"index\", axis=1)"
   ]
  },
  {
   "cell_type": "code",
   "execution_count": 15,
   "metadata": {},
   "outputs": [],
   "source": [
    "X_valid_uni = X_valid_reindex[X_valid_reindex[\"Education-Num\"] > 12]\n",
    "X_valid_hs = X_valid_reindex[X_valid_reindex[\"Education-Num\"] <= 12]"
   ]
  },
  {
   "cell_type": "code",
   "execution_count": 16,
   "metadata": {},
   "outputs": [
    {
     "data": {
      "text/plain": [
       "0.77897403419886"
      ]
     },
     "execution_count": 16,
     "metadata": {},
     "output_type": "execute_result"
    }
   ],
   "source": [
    "knn.score(X_valid_uni, y_valid[X_valid_uni.index])"
   ]
  },
  {
   "cell_type": "code",
   "execution_count": 17,
   "metadata": {},
   "outputs": [
    {
     "data": {
      "text/plain": [
       "0.8680583704904743"
      ]
     },
     "execution_count": 17,
     "metadata": {},
     "output_type": "execute_result"
    }
   ],
   "source": [
    "knn.score(X_valid_hs, y_valid[X_valid_hs.index])"
   ]
  },
  {
   "cell_type": "markdown",
   "metadata": {},
   "source": [
    "#### Based on age brackets"
   ]
  },
  {
   "cell_type": "code",
   "execution_count": 11,
   "metadata": {},
   "outputs": [],
   "source": [
    "X_valid_reindex = X_valid.reset_index().drop(\"index\", axis=1)"
   ]
  },
  {
   "cell_type": "code",
   "execution_count": 28,
   "metadata": {},
   "outputs": [],
   "source": [
    "X_valid_to_35 = X_valid_reindex[(X_valid_reindex[\"Age\"] <= 35) & (X_valid_reindex[\"Age\"] > 18)]\n",
    "X_valid_to_55 = X_valid_reindex[X_valid_reindex[\"Age\"] <= 55]\n",
    "X_valid_over_55 = X_valid_reindex[X_valid_reindex[\"Age\"] > 55]"
   ]
  },
  {
   "cell_type": "code",
   "execution_count": 30,
   "metadata": {},
   "outputs": [
    {
     "data": {
      "text/plain": [
       "0.9147121535181236"
      ]
     },
     "execution_count": 30,
     "metadata": {},
     "output_type": "execute_result"
    }
   ],
   "source": [
    "knn.score(X_valid_to_35, y_valid[X_valid_to_35.index])"
   ]
  },
  {
   "cell_type": "code",
   "execution_count": 31,
   "metadata": {},
   "outputs": [
    {
     "data": {
      "text/plain": [
       "0.8526371123182057"
      ]
     },
     "execution_count": 31,
     "metadata": {},
     "output_type": "execute_result"
    }
   ],
   "source": [
    "knn.score(X_valid_to_55, y_valid[X_valid_to_55.index])"
   ]
  },
  {
   "cell_type": "code",
   "execution_count": 29,
   "metadata": {},
   "outputs": [
    {
     "data": {
      "text/plain": [
       "0.8027295285359801"
      ]
     },
     "execution_count": 29,
     "metadata": {},
     "output_type": "execute_result"
    }
   ],
   "source": [
    "knn.score(X_valid_over_55, y_valid[X_valid_over_55.index])"
   ]
  },
  {
   "cell_type": "markdown",
   "metadata": {},
   "source": [
    "You got the idea..."
   ]
  },
  {
   "cell_type": "code",
   "execution_count": null,
   "metadata": {},
   "outputs": [],
   "source": []
  },
  {
   "cell_type": "markdown",
   "metadata": {},
   "source": [
    "## Manifold-like groupings"
   ]
  },
  {
   "cell_type": "markdown",
   "metadata": {},
   "source": [
    "Manifold is a model analysis and debugging tool proposed by Uber. At its core, it tries to group model predictions and analyze them. Manifold can be useful when deciding which model to use for which segment of inputs.\n",
    "\n",
    "Manifold does the following steps:\n",
    "1. Predict classes probability or do a regression\n",
    "2. Compute the loss, for classification it's log_loss, for regression it's MSE, but anything continuous will do\n",
    "3. Cluster the input data based on either:\n",
    "  - the loss of a single or both models,\n",
    "  - or based on some input features,\n",
    "  - or based on both losses and features.\n",
    "4. Visualize the distributions of features in different clusters\n",
    "\n",
    "Once you're done, you can now ask questions like: why is this model performing worse than that model? or which model performs best on which group of inputs?"
   ]
  },
  {
   "cell_type": "code",
   "execution_count": 7,
   "metadata": {},
   "outputs": [],
   "source": [
    "from sklearn.linear_model import LogisticRegression\n",
    "from sklearn.naive_bayes import GaussianNB\n",
    "\n",
    "from sklearn.cluster import KMeans\n",
    "\n",
    "from sklearn.metrics import log_loss\n",
    "\n",
    "import numpy as np\n",
    "import matplotlib.pyplot as plt\n",
    "\n",
    "import seaborn as sns\n",
    "import pandas as pd\n",
    "\n",
    "from argparse import Namespace"
   ]
  },
  {
   "cell_type": "code",
   "execution_count": null,
   "metadata": {},
   "outputs": [],
   "source": [
    "args = Namespace(**{\"n_clusters\": 2, \"cluster_on\": \"all_models_losses\"})\n",
    "\n",
    "\n",
    "X_test, y_test = X_valid, y_valid"
   ]
  },
  {
   "cell_type": "code",
   "execution_count": null,
   "metadata": {},
   "outputs": [],
   "source": [
    "model1 = LogisticRegression()\n",
    "model2 = GaussianNB()\n",
    "model3 = LogisticRegression(penalty=\"l1\", solver=\"saga\")\n",
    "\n",
    "model1.fit(X_train, y_train)\n",
    "model2.fit(X_train, y_train)\n",
    "model3.fit(X_train, y_train)"
   ]
  },
  {
   "cell_type": "code",
   "execution_count": 10,
   "metadata": {},
   "outputs": [],
   "source": [
    "def make_analysis(models, X_test, y_test, loss=log_loss, labels=[0, 1], args=args):\n",
    "    losses = []\n",
    "    for model in models:\n",
    "        y_hat = model.predict_proba(X_test)\n",
    "        losses.append(np.array([loss([t], [p], labels=labels)\n",
    "                                   for t, p in zip(y_test, y_hat)]).reshape(-1, 1))\n",
    "\n",
    "    losses = np.hstack(losses)\n",
    "\n",
    "    cluster = KMeans(n_clusters=args.n_clusters)\n",
    "    if args.cluster_on == \"first_model_loss\":\n",
    "        segments = cluster.fit_predict(losses[:, 0].reshape(-1, 1))\n",
    "    elif args.cluster_on == \"all_models_losses\":\n",
    "        segments = cluster.fit_predict(losses)\n",
    "    elif args.cluster_on == \"with_features\":\n",
    "        segments = cluster.fit_predict(np.hstack([X_test, losses]))\n",
    "    elif args.cluster_on == \"just_features\":\n",
    "        segments = cluster.fit_predict(np.hstack([X_test, losses]))\n",
    "\n",
    "\n",
    "    data = pd.DataFrame({\n",
    "        \"data_index\": np.hstack([i for i, _ in enumerate(y_test)] * len(models)),\n",
    "        \"losses\": np.hstack([losses[:, i] for i in range(len(models))]),\n",
    "        \"segments\": np.hstack([segments.astype(str)] * len(models)),\n",
    "        \"models\": [n for ns in [[f\"{model}\"] * len(losses) for model in models]\n",
    "                        for n in ns]\n",
    "       })\n",
    "\n",
    "    return data"
   ]
  },
  {
   "cell_type": "markdown",
   "metadata": {},
   "source": [
    "Now let's plot"
   ]
  },
  {
   "cell_type": "code",
   "execution_count": 127,
   "metadata": {},
   "outputs": [],
   "source": [
    "data = make_analysis([knn, model1, model2, model3], X_test, y_test, loss=log_loss, labels=[0, 1], args=args)"
   ]
  },
  {
   "cell_type": "code",
   "execution_count": 139,
   "metadata": {},
   "outputs": [
    {
     "data": {
      "text/plain": [
       "<matplotlib.legend.Legend at 0x7f42e04782e8>"
      ]
     },
     "execution_count": 139,
     "metadata": {},
     "output_type": "execute_result"
    },
    {
     "data": {
      "image/png": "[encoded data removed]",
      "text/plain": [
       "<Figure size 1152x648 with 1 Axes>"
      ]
     },
     "metadata": {
      "needs_background": "light"
     },
     "output_type": "display_data"
    }
   ],
   "source": [
    "import matplotlib.patches as mpatches\n",
    "\n",
    "# based on https://stackoverflow.com/a/58324984/5428334\n",
    "labels = []\n",
    "def add_label(violin, label):\n",
    "    color = violin[\"bodies\"][0].get_facecolor().flatten()\n",
    "    labels.append((mpatches.Patch(color=color), label))\n",
    "\n",
    "\n",
    "knn_plots = [\n",
    "    data[(data.models == \"KNeighborsClassifier()\") & (data.segments == \"0\")][\"losses\"],\n",
    "    data[(data.models == \"KNeighborsClassifier()\") & (data.segments == \"1\")][\"losses\"]\n",
    "]\n",
    "lr_plots = [\n",
    "    data[(data.models == \"LogisticRegression(penalty='l1', solver='saga')\") & (data.segments == \"0\")][\"losses\"],\n",
    "    data[(data.models == \"LogisticRegression(penalty='l1', solver='saga')\") & (data.segments == \"1\")][\"losses\"]\n",
    "]\n",
    "nb_plots = [\n",
    "    data[(data.models == \"GaussianNB()\") & (data.segments == \"0\")][\"losses\"],\n",
    "    data[(data.models == \"GaussianNB()\") & (data.segments == \"1\")][\"losses\"]\n",
    "]\n",
    "lr2_plots = [\n",
    "    data[(data.models == \"LogisticRegression(penalty='l1', solver='saga')\") & (data.segments == \"0\")][\"losses\"],\n",
    "    data[(data.models == \"LogisticRegression(penalty='l1', solver='saga')\") & (data.segments == \"1\")][\"losses\"]\n",
    "]\n",
    "\n",
    "\n",
    "fig, ax = plt.subplots(figsize=(16, 9))\n",
    "\n",
    "yticklabels = ['Segment 0', 'Segment 1']\n",
    "ax.set_yticks([1, 2])\n",
    "ax.set_yticklabels(yticklabels)\n",
    "\n",
    "add_label(ax.violinplot(knn_plots, showmedians=True, vert=False, widths=0.7), \"kNN\")\n",
    "add_label(ax.violinplot(lr_plots, showmedians=True, vert=False, widths=0.7), \"LR tuned\")\n",
    "add_label(ax.violinplot(nb_plots, showmedians=True, vert=False, widths=0.7), \"NaiveBayes\")\n",
    "add_label(ax.violinplot(lr2_plots, showmedians=True, vert=False, widths=0.7), \"LR simple\")\n",
    "\n",
    "\n",
    "plt.legend(*zip(*labels), loc=0)"
   ]
  },
  {
   "cell_type": "code",
   "execution_count": null,
   "metadata": {},
   "outputs": [],
   "source": []
  },
  {
   "cell_type": "markdown",
   "metadata": {},
   "source": [
    "Or a bit simpler but less flexible"
   ]
  },
  {
   "cell_type": "code",
   "execution_count": 125,
   "metadata": {},
   "outputs": [
    {
     "data": {
      "image/png": "[encoded data removed]",
      "text/plain": [
       "<Figure size 1152x648 with 1 Axes>"
      ]
     },
     "metadata": {
      "needs_background": "light"
     },
     "output_type": "display_data"
    }
   ],
   "source": [
    "data = make_analysis([knn, model3], X_test, y_test, loss=log_loss, labels=[0, 1], args=args)\n",
    "\n",
    "# Using seaborn's violin plot only works with 2 models\n",
    "fig, ax = plt.subplots(figsize=(16, 9))\n",
    "sns.violinplot(x=\"losses\", y=\"segments\", hue=\"models\", data=data, split=True, scale=\"width\", ax=ax, orient=\"h\")\n",
    "plt.show()"
   ]
  },
  {
   "cell_type": "code",
   "execution_count": 55,
   "metadata": {},
   "outputs": [],
   "source": [
    "def make_feature_segments(X: np.ndarray, data):\n",
    "    data.index = [i for i in range(len(X))] * (len(data.values) // len(X))\n",
    "    return {seg: X[np.unique(data[data.segments == seg].index)] for seg in np.unique(data.segments)}"
   ]
  },
  {
   "cell_type": "code",
   "execution_count": 58,
   "metadata": {},
   "outputs": [],
   "source": [
    "# print(make_feature_segments(X_test.values, data))\n",
    "# it will basically be a dict where the key is the segment and the value a numpy array"
   ]
  },
  {
   "cell_type": "code",
   "execution_count": 134,
   "metadata": {},
   "outputs": [],
   "source": [
    "def compare_segments(group_1, group_2, segments_dict):\n",
    "    group_1_features, group_2_features = [], []\n",
    "\n",
    "    for segment, features in segments_dict.items():\n",
    "        if segment in group_1:\n",
    "            group_1_features.append(features)\n",
    "        elif segment in group_2:\n",
    "            group_2_features.append(features)\n",
    "\n",
    "    if len(group_1_features) > 1:\n",
    "        group_1_features = np.vstack(group_1_features)\n",
    "    else:\n",
    "        group_1_features = group_1_features[0]\n",
    "\n",
    "    if len(group_2_features) > 1:\n",
    "        group_2_features = np.vstack(group_2_features)\n",
    "    else:\n",
    "        group_2_features = group_2_features[0]\n",
    "\n",
    "    dfl = list()\n",
    "    \n",
    "    if group_1_features.shape[0] > group_2_features.shape[0]:\n",
    "        temp = np.zeros_like(group_1_features)\n",
    "        temp[0:group_2_features.shape[0], :] = group_2_features\n",
    "        group_2_features = temp\n",
    "    else:\n",
    "        temp = np.zeros_like(group_2_features)\n",
    "        temp[0:group_1_features.shape[0], :] = group_1_features\n",
    "        group_1_features = temp\n",
    "\n",
    "\n",
    "    for feature_idx in range(group_2_features.shape[-1]):\n",
    "        df = pd.DataFrame({\n",
    "            \"row\": feature_idx,\n",
    "            \"group_1_value\": group_1_features[:, feature_idx],\n",
    "            \"group_2_value\": group_2_features[:, feature_idx]})\n",
    "        dfl.append(df)\n",
    "\n",
    "    df = pd.concat(dfl)\n",
    "\n",
    "    g = sns.FacetGrid(df, row=\"row\", sharex=False, sharey=False)\n",
    "    g.map(sns.kdeplot, \"group_1_value\", color=\"r\")\n",
    "    g.map(sns.kdeplot, \"group_2_value\", color=\"k\")\n",
    "\n",
    "    return g"
   ]
  },
  {
   "cell_type": "code",
   "execution_count": 140,
   "metadata": {
    "scrolled": false
   },
   "outputs": [
    {
     "data": {
      "image/png": "[encoded data removed]",
      "text/plain": [
       "<Figure size 216x2592 with 12 Axes>"
      ]
     },
     "metadata": {
      "needs_background": "light"
     },
     "output_type": "display_data"
    }
   ],
   "source": [
    "g = compare_segments([\"0\"], [\"1\"], make_feature_segments(X_test.values, data))\n",
    "plt.show()"
   ]
  },
  {
   "cell_type": "code",
   "execution_count": null,
   "metadata": {},
   "outputs": [],
   "source": []
  },
  {
   "cell_type": "markdown",
   "metadata": {},
   "source": [
    "Well, it doesn't look as good as [the original](https://www.youtube.com/watch?v=paJNSODuu3c), but can be just as helpful."
   ]
  },
  {
   "cell_type": "code",
   "execution_count": null,
   "metadata": {},
   "outputs": [],
   "source": []
  },
  {
   "cell_type": "markdown",
   "metadata": {},
   "source": [
    "## Nearest neighbor (most similar) search in feature and target space"
   ]
  },
  {
   "cell_type": "markdown",
   "metadata": {},
   "source": [
    "As per [Microsoft's Gamut](https://www.microsoft.com/en-us/research/project/msrgamut/) paper, we know that while developing machine learning models, answering questions of the form: _what is the most similar dataset entry to X_ maybe with some additional \"constraints\" like attribute value or range of values, or prediction result, or whatever, could prove very useful.\n",
    "\n",
    "The method below searches for similarities at the feature level, and not model level. In other words, it searches for similarities from the point of view of data and not the model that we are trying to understand.\n",
    "\n",
    "To allow for searching of most similar items from model's point o view, we would need an embedding from the model. It is fairly easy to do using neural networks, but for other classes of models, I honestly don't really know how to do it. Maybe if you do, drop me a message about it ;)"
   ]
  },
  {
   "cell_type": "code",
   "execution_count": 61,
   "metadata": {},
   "outputs": [],
   "source": [
    "from sklearn.linear_model import LogisticRegression\n",
    "from sklearn.naive_bayes import GaussianNB\n",
    "\n",
    "from sklearn.neighbors import NearestNeighbors\n",
    "from sklearn.preprocessing import StandardScaler\n",
    "from sklearn.pipeline import make_pipeline\n",
    "from sklearn.model_selection import train_test_split\n",
    "\n",
    "from sklearn.metrics import log_loss\n",
    "\n",
    "import numpy as np\n",
    "import matplotlib.pyplot as plt\n",
    "\n",
    "import seaborn as sns\n",
    "import pandas as pd\n"
   ]
  },
  {
   "cell_type": "markdown",
   "metadata": {},
   "source": [
    "Nearest neighbor algorithm is very sensitive about dimensions and scaling, that's why we'll use `StandardScaler` to avoid subsequent issues."
   ]
  },
  {
   "cell_type": "code",
   "execution_count": 71,
   "metadata": {},
   "outputs": [
    {
     "data": {
      "text/plain": [
       "NearestNeighbors()"
      ]
     },
     "execution_count": 71,
     "metadata": {},
     "output_type": "execute_result"
    }
   ],
   "source": [
    "scaler = StandardScaler()\n",
    "q_knn = NearestNeighbors()\n",
    "\n",
    "q_knn.fit(scaler.fit_transform(np.hstack([X_valid.values, y_valid.reshape(-1, 1)])))"
   ]
  },
  {
   "cell_type": "markdown",
   "metadata": {},
   "source": [
    "#### Most similar to X"
   ]
  },
  {
   "cell_type": "code",
   "execution_count": 63,
   "metadata": {},
   "outputs": [
    {
     "data": {
      "text/plain": [
       "Age                39.0\n",
       "Workclass           4.0\n",
       "Education-Num      10.0\n",
       "Marital Status      0.0\n",
       "Occupation          4.0\n",
       "Relationship        1.0\n",
       "Race                4.0\n",
       "Sex                 0.0\n",
       "Capital Gain        0.0\n",
       "Capital Loss      625.0\n",
       "Hours per week     40.0\n",
       "Country            39.0\n",
       "Name: 18329, dtype: float64"
      ]
     },
     "execution_count": 63,
     "metadata": {},
     "output_type": "execute_result"
    }
   ],
   "source": [
    "X_valid.iloc[0]"
   ]
  },
  {
   "cell_type": "code",
   "execution_count": 72,
   "metadata": {},
   "outputs": [],
   "source": [
    "query = [np.hstack([X_valid.iloc[0].values, y_valid[0]])]\n",
    "\n",
    "candidate_dist, candidate_idx = q_knn.kneighbors(scaler.transform(query), n_neighbors=5, return_distance=True)"
   ]
  },
  {
   "cell_type": "code",
   "execution_count": 73,
   "metadata": {},
   "outputs": [
    {
     "data": {
      "text/html": [
       "<div>\n",
       "<style scoped>\n",
       "    .dataframe tbody tr th:only-of-type {\n",
       "        vertical-align: middle;\n",
       "    }\n",
       "\n",
       "    .dataframe tbody tr th {\n",
       "        vertical-align: top;\n",
       "    }\n",
       "\n",
       "    .dataframe thead th {\n",
       "        text-align: right;\n",
       "    }\n",
       "</style>\n",
       "<table border=\"1\" class=\"dataframe\">\n",
       "  <thead>\n",
       "    <tr style=\"text-align: right;\">\n",
       "      <th></th>\n",
       "      <th>Age</th>\n",
       "      <th>Workclass</th>\n",
       "      <th>Education-Num</th>\n",
       "      <th>Marital Status</th>\n",
       "      <th>Occupation</th>\n",
       "      <th>Relationship</th>\n",
       "      <th>Race</th>\n",
       "      <th>Sex</th>\n",
       "      <th>Capital Gain</th>\n",
       "      <th>Capital Loss</th>\n",
       "      <th>Hours per week</th>\n",
       "      <th>Country</th>\n",
       "    </tr>\n",
       "  </thead>\n",
       "  <tbody>\n",
       "    <tr>\n",
       "      <th>23714</th>\n",
       "      <td>39.0</td>\n",
       "      <td>4</td>\n",
       "      <td>10.0</td>\n",
       "      <td>0</td>\n",
       "      <td>4</td>\n",
       "      <td>1</td>\n",
       "      <td>4</td>\n",
       "      <td>0</td>\n",
       "      <td>0.0</td>\n",
       "      <td>0.0</td>\n",
       "      <td>39.0</td>\n",
       "      <td>39</td>\n",
       "    </tr>\n",
       "    <tr>\n",
       "      <th>91</th>\n",
       "      <td>37.0</td>\n",
       "      <td>4</td>\n",
       "      <td>10.0</td>\n",
       "      <td>0</td>\n",
       "      <td>3</td>\n",
       "      <td>1</td>\n",
       "      <td>4</td>\n",
       "      <td>0</td>\n",
       "      <td>0.0</td>\n",
       "      <td>0.0</td>\n",
       "      <td>40.0</td>\n",
       "      <td>39</td>\n",
       "    </tr>\n",
       "    <tr>\n",
       "      <th>16774</th>\n",
       "      <td>38.0</td>\n",
       "      <td>4</td>\n",
       "      <td>9.0</td>\n",
       "      <td>0</td>\n",
       "      <td>4</td>\n",
       "      <td>1</td>\n",
       "      <td>4</td>\n",
       "      <td>0</td>\n",
       "      <td>0.0</td>\n",
       "      <td>0.0</td>\n",
       "      <td>40.0</td>\n",
       "      <td>39</td>\n",
       "    </tr>\n",
       "    <tr>\n",
       "      <th>23885</th>\n",
       "      <td>40.0</td>\n",
       "      <td>4</td>\n",
       "      <td>9.0</td>\n",
       "      <td>0</td>\n",
       "      <td>4</td>\n",
       "      <td>1</td>\n",
       "      <td>4</td>\n",
       "      <td>0</td>\n",
       "      <td>0.0</td>\n",
       "      <td>0.0</td>\n",
       "      <td>40.0</td>\n",
       "      <td>39</td>\n",
       "    </tr>\n",
       "  </tbody>\n",
       "</table>\n",
       "</div>"
      ],
      "text/plain": [
       "        Age  Workclass  Education-Num  Marital Status  Occupation  \\\n",
       "23714  39.0          4           10.0               0           4   \n",
       "91     37.0          4           10.0               0           3   \n",
       "16774  38.0          4            9.0               0           4   \n",
       "23885  40.0          4            9.0               0           4   \n",
       "\n",
       "       Relationship  Race  Sex  Capital Gain  Capital Loss  Hours per week  \\\n",
       "23714             1     4    0           0.0           0.0            39.0   \n",
       "91                1     4    0           0.0           0.0            40.0   \n",
       "16774             1     4    0           0.0           0.0            40.0   \n",
       "23885             1     4    0           0.0           0.0            40.0   \n",
       "\n",
       "       Country  \n",
       "23714       39  \n",
       "91          39  \n",
       "16774       39  \n",
       "23885       39  "
      ]
     },
     "execution_count": 73,
     "metadata": {},
     "output_type": "execute_result"
    }
   ],
   "source": [
    "X_valid.iloc[candidate_idx.flatten()[1:]]"
   ]
  },
  {
   "cell_type": "code",
   "execution_count": 74,
   "metadata": {
    "scrolled": true
   },
   "outputs": [
    {
     "data": {
      "text/plain": [
       "array([[0.        , 1.55815669, 1.58065146, 1.60742423, 1.60742423]])"
      ]
     },
     "execution_count": 74,
     "metadata": {},
     "output_type": "execute_result"
    }
   ],
   "source": [
    "candidate_dist"
   ]
  },
  {
   "cell_type": "code",
   "execution_count": null,
   "metadata": {},
   "outputs": [],
   "source": []
  },
  {
   "cell_type": "markdown",
   "metadata": {},
   "source": [
    "#### Most similar to X but a different prediction"
   ]
  },
  {
   "cell_type": "code",
   "execution_count": 75,
   "metadata": {},
   "outputs": [
    {
     "data": {
      "text/plain": [
       "Age                39.0\n",
       "Workclass           4.0\n",
       "Education-Num      10.0\n",
       "Marital Status      0.0\n",
       "Occupation          4.0\n",
       "Relationship        1.0\n",
       "Race                4.0\n",
       "Sex                 0.0\n",
       "Capital Gain        0.0\n",
       "Capital Loss      625.0\n",
       "Hours per week     40.0\n",
       "Country            39.0\n",
       "Name: 18329, dtype: float64"
      ]
     },
     "execution_count": 75,
     "metadata": {},
     "output_type": "execute_result"
    }
   ],
   "source": [
    "X_valid.iloc[0]"
   ]
  },
  {
   "cell_type": "code",
   "execution_count": 76,
   "metadata": {},
   "outputs": [],
   "source": [
    "query = [np.hstack([X_valid.iloc[0].values, not y_valid[0]])]\n",
    "\n",
    "candidate_dist, candidate_idx = q_knn.kneighbors(scaler.transform(query), n_neighbors=5, return_distance=True)"
   ]
  },
  {
   "cell_type": "code",
   "execution_count": 77,
   "metadata": {},
   "outputs": [
    {
     "data": {
      "text/html": [
       "<div>\n",
       "<style scoped>\n",
       "    .dataframe tbody tr th:only-of-type {\n",
       "        vertical-align: middle;\n",
       "    }\n",
       "\n",
       "    .dataframe tbody tr th {\n",
       "        vertical-align: top;\n",
       "    }\n",
       "\n",
       "    .dataframe thead th {\n",
       "        text-align: right;\n",
       "    }\n",
       "</style>\n",
       "<table border=\"1\" class=\"dataframe\">\n",
       "  <thead>\n",
       "    <tr style=\"text-align: right;\">\n",
       "      <th></th>\n",
       "      <th>Age</th>\n",
       "      <th>Workclass</th>\n",
       "      <th>Education-Num</th>\n",
       "      <th>Marital Status</th>\n",
       "      <th>Occupation</th>\n",
       "      <th>Relationship</th>\n",
       "      <th>Race</th>\n",
       "      <th>Sex</th>\n",
       "      <th>Capital Gain</th>\n",
       "      <th>Capital Loss</th>\n",
       "      <th>Hours per week</th>\n",
       "      <th>Country</th>\n",
       "    </tr>\n",
       "  </thead>\n",
       "  <tbody>\n",
       "    <tr>\n",
       "      <th>17186</th>\n",
       "      <td>37.0</td>\n",
       "      <td>4</td>\n",
       "      <td>10.0</td>\n",
       "      <td>0</td>\n",
       "      <td>4</td>\n",
       "      <td>0</td>\n",
       "      <td>4</td>\n",
       "      <td>0</td>\n",
       "      <td>0.0</td>\n",
       "      <td>0.0</td>\n",
       "      <td>40.0</td>\n",
       "      <td>39</td>\n",
       "    </tr>\n",
       "    <tr>\n",
       "      <th>29358</th>\n",
       "      <td>35.0</td>\n",
       "      <td>4</td>\n",
       "      <td>10.0</td>\n",
       "      <td>0</td>\n",
       "      <td>4</td>\n",
       "      <td>0</td>\n",
       "      <td>4</td>\n",
       "      <td>0</td>\n",
       "      <td>0.0</td>\n",
       "      <td>0.0</td>\n",
       "      <td>40.0</td>\n",
       "      <td>39</td>\n",
       "    </tr>\n",
       "    <tr>\n",
       "      <th>6199</th>\n",
       "      <td>32.0</td>\n",
       "      <td>4</td>\n",
       "      <td>10.0</td>\n",
       "      <td>0</td>\n",
       "      <td>4</td>\n",
       "      <td>0</td>\n",
       "      <td>4</td>\n",
       "      <td>0</td>\n",
       "      <td>0.0</td>\n",
       "      <td>0.0</td>\n",
       "      <td>50.0</td>\n",
       "      <td>39</td>\n",
       "    </tr>\n",
       "    <tr>\n",
       "      <th>7377</th>\n",
       "      <td>41.0</td>\n",
       "      <td>4</td>\n",
       "      <td>10.0</td>\n",
       "      <td>0</td>\n",
       "      <td>8</td>\n",
       "      <td>0</td>\n",
       "      <td>4</td>\n",
       "      <td>0</td>\n",
       "      <td>0.0</td>\n",
       "      <td>0.0</td>\n",
       "      <td>36.0</td>\n",
       "      <td>39</td>\n",
       "    </tr>\n",
       "    <tr>\n",
       "      <th>7199</th>\n",
       "      <td>48.0</td>\n",
       "      <td>4</td>\n",
       "      <td>9.0</td>\n",
       "      <td>0</td>\n",
       "      <td>1</td>\n",
       "      <td>0</td>\n",
       "      <td>4</td>\n",
       "      <td>0</td>\n",
       "      <td>0.0</td>\n",
       "      <td>0.0</td>\n",
       "      <td>37.0</td>\n",
       "      <td>39</td>\n",
       "    </tr>\n",
       "  </tbody>\n",
       "</table>\n",
       "</div>"
      ],
      "text/plain": [
       "        Age  Workclass  Education-Num  Marital Status  Occupation  \\\n",
       "17186  37.0          4           10.0               0           4   \n",
       "29358  35.0          4           10.0               0           4   \n",
       "6199   32.0          4           10.0               0           4   \n",
       "7377   41.0          4           10.0               0           8   \n",
       "7199   48.0          4            9.0               0           1   \n",
       "\n",
       "       Relationship  Race  Sex  Capital Gain  Capital Loss  Hours per week  \\\n",
       "17186             0     4    0           0.0           0.0            40.0   \n",
       "29358             0     4    0           0.0           0.0            40.0   \n",
       "6199              0     4    0           0.0           0.0            50.0   \n",
       "7377              0     4    0           0.0           0.0            36.0   \n",
       "7199              0     4    0           0.0           0.0            37.0   \n",
       "\n",
       "       Country  \n",
       "17186       39  \n",
       "29358       39  \n",
       "6199        39  \n",
       "7377        39  \n",
       "7199        39  "
      ]
     },
     "execution_count": 77,
     "metadata": {},
     "output_type": "execute_result"
    }
   ],
   "source": [
    "X_valid.iloc[candidate_idx.flatten()]"
   ]
  },
  {
   "cell_type": "code",
   "execution_count": 78,
   "metadata": {
    "scrolled": false
   },
   "outputs": [
    {
     "data": {
      "text/plain": [
       "array([[1.66348994, 1.68302119, 1.92050703, 1.94026954, 1.97609215]])"
      ]
     },
     "execution_count": 78,
     "metadata": {},
     "output_type": "execute_result"
    }
   ],
   "source": [
    "candidate_dist"
   ]
  },
  {
   "cell_type": "code",
   "execution_count": null,
   "metadata": {},
   "outputs": [],
   "source": []
  },
  {
   "cell_type": "markdown",
   "metadata": {},
   "source": [
    "#### Most similar to X but a different attribute value"
   ]
  },
  {
   "cell_type": "code",
   "execution_count": 41,
   "metadata": {},
   "outputs": [
    {
     "data": {
      "text/plain": [
       "Age                39.0\n",
       "Workclass           4.0\n",
       "Education-Num      10.0\n",
       "Marital Status      0.0\n",
       "Occupation          4.0\n",
       "Relationship        1.0\n",
       "Race                4.0\n",
       "Sex                 0.0\n",
       "Capital Gain        0.0\n",
       "Capital Loss      625.0\n",
       "Hours per week     40.0\n",
       "Country            39.0\n",
       "Name: 18329, dtype: float64"
      ]
     },
     "execution_count": 41,
     "metadata": {},
     "output_type": "execute_result"
    }
   ],
   "source": [
    "X_valid.iloc[0]"
   ]
  },
  {
   "cell_type": "code",
   "execution_count": 80,
   "metadata": {},
   "outputs": [],
   "source": [
    "example = X_valid.iloc[0].copy()\n",
    "example.Age = 50\n",
    "example[\"Education-Num\"] = 13"
   ]
  },
  {
   "cell_type": "code",
   "execution_count": 81,
   "metadata": {},
   "outputs": [],
   "source": [
    "query = [np.hstack([example.values, y_valid[0]])]\n",
    "\n",
    "candidate_dist, candidate_idx = q_knn.kneighbors(scaler.transform(query), n_neighbors=5, return_distance=True)"
   ]
  },
  {
   "cell_type": "code",
   "execution_count": 82,
   "metadata": {},
   "outputs": [
    {
     "data": {
      "text/html": [
       "<div>\n",
       "<style scoped>\n",
       "    .dataframe tbody tr th:only-of-type {\n",
       "        vertical-align: middle;\n",
       "    }\n",
       "\n",
       "    .dataframe tbody tr th {\n",
       "        vertical-align: top;\n",
       "    }\n",
       "\n",
       "    .dataframe thead th {\n",
       "        text-align: right;\n",
       "    }\n",
       "</style>\n",
       "<table border=\"1\" class=\"dataframe\">\n",
       "  <thead>\n",
       "    <tr style=\"text-align: right;\">\n",
       "      <th></th>\n",
       "      <th>Age</th>\n",
       "      <th>Workclass</th>\n",
       "      <th>Education-Num</th>\n",
       "      <th>Marital Status</th>\n",
       "      <th>Occupation</th>\n",
       "      <th>Relationship</th>\n",
       "      <th>Race</th>\n",
       "      <th>Sex</th>\n",
       "      <th>Capital Gain</th>\n",
       "      <th>Capital Loss</th>\n",
       "      <th>Hours per week</th>\n",
       "      <th>Country</th>\n",
       "    </tr>\n",
       "  </thead>\n",
       "  <tbody>\n",
       "    <tr>\n",
       "      <th>18329</th>\n",
       "      <td>39.0</td>\n",
       "      <td>4</td>\n",
       "      <td>10.0</td>\n",
       "      <td>0</td>\n",
       "      <td>4</td>\n",
       "      <td>1</td>\n",
       "      <td>4</td>\n",
       "      <td>0</td>\n",
       "      <td>0.0</td>\n",
       "      <td>625.0</td>\n",
       "      <td>40.0</td>\n",
       "      <td>39</td>\n",
       "    </tr>\n",
       "    <tr>\n",
       "      <th>16002</th>\n",
       "      <td>50.0</td>\n",
       "      <td>4</td>\n",
       "      <td>13.0</td>\n",
       "      <td>0</td>\n",
       "      <td>4</td>\n",
       "      <td>1</td>\n",
       "      <td>4</td>\n",
       "      <td>0</td>\n",
       "      <td>0.0</td>\n",
       "      <td>0.0</td>\n",
       "      <td>40.0</td>\n",
       "      <td>39</td>\n",
       "    </tr>\n",
       "    <tr>\n",
       "      <th>3279</th>\n",
       "      <td>45.0</td>\n",
       "      <td>4</td>\n",
       "      <td>13.0</td>\n",
       "      <td>0</td>\n",
       "      <td>4</td>\n",
       "      <td>1</td>\n",
       "      <td>4</td>\n",
       "      <td>0</td>\n",
       "      <td>0.0</td>\n",
       "      <td>0.0</td>\n",
       "      <td>40.0</td>\n",
       "      <td>39</td>\n",
       "    </tr>\n",
       "    <tr>\n",
       "      <th>31485</th>\n",
       "      <td>48.0</td>\n",
       "      <td>4</td>\n",
       "      <td>12.0</td>\n",
       "      <td>0</td>\n",
       "      <td>4</td>\n",
       "      <td>1</td>\n",
       "      <td>4</td>\n",
       "      <td>0</td>\n",
       "      <td>0.0</td>\n",
       "      <td>0.0</td>\n",
       "      <td>42.0</td>\n",
       "      <td>39</td>\n",
       "    </tr>\n",
       "    <tr>\n",
       "      <th>18260</th>\n",
       "      <td>42.0</td>\n",
       "      <td>4</td>\n",
       "      <td>12.0</td>\n",
       "      <td>0</td>\n",
       "      <td>4</td>\n",
       "      <td>1</td>\n",
       "      <td>4</td>\n",
       "      <td>0</td>\n",
       "      <td>0.0</td>\n",
       "      <td>0.0</td>\n",
       "      <td>40.0</td>\n",
       "      <td>39</td>\n",
       "    </tr>\n",
       "  </tbody>\n",
       "</table>\n",
       "</div>"
      ],
      "text/plain": [
       "        Age  Workclass  Education-Num  Marital Status  Occupation  \\\n",
       "18329  39.0          4           10.0               0           4   \n",
       "16002  50.0          4           13.0               0           4   \n",
       "3279   45.0          4           13.0               0           4   \n",
       "31485  48.0          4           12.0               0           4   \n",
       "18260  42.0          4           12.0               0           4   \n",
       "\n",
       "       Relationship  Race  Sex  Capital Gain  Capital Loss  Hours per week  \\\n",
       "18329             1     4    0           0.0         625.0            40.0   \n",
       "16002             1     4    0           0.0           0.0            40.0   \n",
       "3279              1     4    0           0.0           0.0            40.0   \n",
       "31485             1     4    0           0.0           0.0            42.0   \n",
       "18260             1     4    0           0.0           0.0            40.0   \n",
       "\n",
       "       Country  \n",
       "18329       39  \n",
       "16002       39  \n",
       "3279        39  \n",
       "31485       39  \n",
       "18260       39  "
      ]
     },
     "execution_count": 82,
     "metadata": {},
     "output_type": "execute_result"
    }
   ],
   "source": [
    "X_valid.iloc[candidate_idx.flatten()]"
   ]
  },
  {
   "cell_type": "code",
   "execution_count": 83,
   "metadata": {
    "scrolled": false
   },
   "outputs": [
    {
     "data": {
      "text/plain": [
       "array([[1.4403224 , 1.55598581, 1.59914408, 1.62086235, 1.71083632]])"
      ]
     },
     "execution_count": 83,
     "metadata": {},
     "output_type": "execute_result"
    }
   ],
   "source": [
    "candidate_dist"
   ]
  },
  {
   "cell_type": "code",
   "execution_count": null,
   "metadata": {},
   "outputs": [],
   "source": []
  },
  {
   "cell_type": "code",
   "execution_count": null,
   "metadata": {},
   "outputs": [],
   "source": []
  }
 ],
 "metadata": {
  "kernelspec": {
   "display_name": "Python 3",
   "language": "python",
   "name": "python3"
  },
  "language_info": {
   "codemirror_mode": {
    "name": "ipython",
    "version": 3
   },
   "file_extension": ".py",
   "mimetype": "text/x-python",
   "name": "python",
   "nbconvert_exporter": "python",
   "pygments_lexer": "ipython3",
   "version": "3.7.3"
  }
 },
 "nbformat": 4,
 "nbformat_minor": 2
}
